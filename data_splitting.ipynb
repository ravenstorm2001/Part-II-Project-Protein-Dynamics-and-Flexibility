{
 "cells": [
  {
   "attachments": {},
   "cell_type": "markdown",
   "metadata": {},
   "source": [
    "## Data Splitting"
   ]
  },
  {
   "cell_type": "code",
   "execution_count": 1,
   "metadata": {},
   "outputs": [],
   "source": [
    "from libraries.pdb import RcsbPdbClusters\n",
    "import pandas as pd\n",
    "from tqdm import tqdm\n",
    "from src.data_preprocessing import  DataPreProcessorForGNM\n",
    "from src.data_preprocessing import is_chain_valid\n",
    "import biotite.structure as struc\n",
    "import warnings\n",
    "from libraries.lmdb_dataset import LMDBDataset\n",
    "import os\n",
    "from src.data_loaders import load_labels\n"
   ]
  },
  {
   "attachments": {},
   "cell_type": "markdown",
   "metadata": {},
   "source": [
    "### Enzyme Commission Number Dataset"
   ]
  },
  {
   "attachments": {},
   "cell_type": "markdown",
   "metadata": {},
   "source": [
    "Firstly, we need to prepare cluster fatching object."
   ]
  },
  {
   "cell_type": "code",
   "execution_count": 2,
   "metadata": {},
   "outputs": [
    {
     "name": "stderr",
     "output_type": "stream",
     "text": [
      "2023-04-30 18:34:27.154 | INFO     | libraries.pdb:_fetch_cluster_file:80 - cluster file path: .\\data\\enzyme_data\\pdb_clusters_50.txt\n"
     ]
    }
   ],
   "source": [
    "clusters = RcsbPdbClusters(cluster_dir = \".\\data\\enzyme_data\", identity=50)"
   ]
  },
  {
   "attachments": {},
   "cell_type": "markdown",
   "metadata": {},
   "source": [
    "Now we want to load all the proteins and their labels."
   ]
  },
  {
   "cell_type": "code",
   "execution_count": 3,
   "metadata": {},
   "outputs": [],
   "source": [
    "labels = load_labels(\"./data/enzyme_data/chain_functions.txt\")\n",
    "labels[['pdb_id','chain']] = labels['chain_id'].str.split('.',n=1,expand=True)"
   ]
  },
  {
   "attachments": {},
   "cell_type": "markdown",
   "metadata": {},
   "source": [
    "Now that we have done loading, we need to get all proteins for which we do not have structure in LMDB database."
   ]
  },
  {
   "cell_type": "code",
   "execution_count": 4,
   "metadata": {},
   "outputs": [
    {
     "name": "stderr",
     "output_type": "stream",
     "text": [
      "100%|██████████| 37426/37426 [07:29<00:00, 83.34it/s] \n"
     ]
    },
    {
     "data": {
      "text/plain": [
       "1733"
      ]
     },
     "execution_count": 4,
     "metadata": {},
     "output_type": "execute_result"
    }
   ],
   "source": [
    "database = LMDBDataset(\"./data/pdb_data\")\n",
    "\n",
    "warnings.filterwarnings(\"error\")\n",
    "flex = \"msqf\"\n",
    "\n",
    "missing_ids = []\n",
    "for id in tqdm(set(labels.chain_id)):\n",
    "    PDBid, chain = id.split(\".\")\n",
    "    if(PDBid in database):\n",
    "        structure = database[PDBid][\"structure\"]\n",
    "        x = DataPreProcessorForGNM(type_flexibility = flex, num_modes=10)\n",
    "        protein_chain = structure[(structure.chain_id == chain) & struc.filter_amino_acids(structure)] \n",
    "        if(not is_chain_valid(protein_chain)):\n",
    "            missing_ids.extend([id])\n",
    "    else:\n",
    "        missing_ids.extend([id])\n",
    "len(missing_ids)"
   ]
  },
  {
   "attachments": {},
   "cell_type": "markdown",
   "metadata": {},
   "source": [
    "Now we are only going to take sequences for which we have obtained full structures in our LMDB database."
   ]
  },
  {
   "cell_type": "code",
   "execution_count": 5,
   "metadata": {},
   "outputs": [
    {
     "data": {
      "text/html": [
       "<div>\n",
       "<style scoped>\n",
       "    .dataframe tbody tr th:only-of-type {\n",
       "        vertical-align: middle;\n",
       "    }\n",
       "\n",
       "    .dataframe tbody tr th {\n",
       "        vertical-align: top;\n",
       "    }\n",
       "\n",
       "    .dataframe thead th {\n",
       "        text-align: right;\n",
       "    }\n",
       "</style>\n",
       "<table border=\"1\" class=\"dataframe\">\n",
       "  <thead>\n",
       "    <tr style=\"text-align: right;\">\n",
       "      <th></th>\n",
       "      <th>chain_id</th>\n",
       "      <th>label</th>\n",
       "      <th>pdb_id</th>\n",
       "      <th>chain</th>\n",
       "    </tr>\n",
       "  </thead>\n",
       "  <tbody>\n",
       "    <tr>\n",
       "      <th>0</th>\n",
       "      <td>4fae.B</td>\n",
       "      <td>247</td>\n",
       "      <td>4fae</td>\n",
       "      <td>B</td>\n",
       "    </tr>\n",
       "    <tr>\n",
       "      <th>1</th>\n",
       "      <td>3o9d.A</td>\n",
       "      <td>247</td>\n",
       "      <td>3o9d</td>\n",
       "      <td>A</td>\n",
       "    </tr>\n",
       "    <tr>\n",
       "      <th>2</th>\n",
       "      <td>2rkg.B</td>\n",
       "      <td>247</td>\n",
       "      <td>2rkg</td>\n",
       "      <td>B</td>\n",
       "    </tr>\n",
       "    <tr>\n",
       "      <th>3</th>\n",
       "      <td>3r0w.B</td>\n",
       "      <td>247</td>\n",
       "      <td>3r0w</td>\n",
       "      <td>B</td>\n",
       "    </tr>\n",
       "    <tr>\n",
       "      <th>4</th>\n",
       "      <td>2qmp.B</td>\n",
       "      <td>247</td>\n",
       "      <td>2qmp</td>\n",
       "      <td>B</td>\n",
       "    </tr>\n",
       "    <tr>\n",
       "      <th>...</th>\n",
       "      <td>...</td>\n",
       "      <td>...</td>\n",
       "      <td>...</td>\n",
       "      <td>...</td>\n",
       "    </tr>\n",
       "    <tr>\n",
       "      <th>37421</th>\n",
       "      <td>1z56.C</td>\n",
       "      <td>1</td>\n",
       "      <td>1z56</td>\n",
       "      <td>C</td>\n",
       "    </tr>\n",
       "    <tr>\n",
       "      <th>37422</th>\n",
       "      <td>4eag.A</td>\n",
       "      <td>357</td>\n",
       "      <td>4eag</td>\n",
       "      <td>A</td>\n",
       "    </tr>\n",
       "    <tr>\n",
       "      <th>37423</th>\n",
       "      <td>1cfr.A</td>\n",
       "      <td>5</td>\n",
       "      <td>1cfr</td>\n",
       "      <td>A</td>\n",
       "    </tr>\n",
       "    <tr>\n",
       "      <th>37424</th>\n",
       "      <td>2lhi.A</td>\n",
       "      <td>118</td>\n",
       "      <td>2lhi</td>\n",
       "      <td>A</td>\n",
       "    </tr>\n",
       "    <tr>\n",
       "      <th>37425</th>\n",
       "      <td>2lv3.A</td>\n",
       "      <td>299</td>\n",
       "      <td>2lv3</td>\n",
       "      <td>A</td>\n",
       "    </tr>\n",
       "  </tbody>\n",
       "</table>\n",
       "<p>35693 rows × 4 columns</p>\n",
       "</div>"
      ],
      "text/plain": [
       "      chain_id  label pdb_id chain\n",
       "0       4fae.B    247   4fae     B\n",
       "1       3o9d.A    247   3o9d     A\n",
       "2       2rkg.B    247   2rkg     B\n",
       "3       3r0w.B    247   3r0w     B\n",
       "4       2qmp.B    247   2qmp     B\n",
       "...        ...    ...    ...   ...\n",
       "37421   1z56.C      1   1z56     C\n",
       "37422   4eag.A    357   4eag     A\n",
       "37423   1cfr.A      5   1cfr     A\n",
       "37424   2lhi.A    118   2lhi     A\n",
       "37425   2lv3.A    299   2lv3     A\n",
       "\n",
       "[35693 rows x 4 columns]"
      ]
     },
     "execution_count": 5,
     "metadata": {},
     "output_type": "execute_result"
    }
   ],
   "source": [
    "labels = labels[~labels.chain_id.isin(missing_ids)]\n",
    "labels"
   ]
  },
  {
   "attachments": {},
   "cell_type": "markdown",
   "metadata": {},
   "source": [
    "Now that we have done this, it is important to attach clusters to sequences."
   ]
  },
  {
   "cell_type": "code",
   "execution_count": 6,
   "metadata": {},
   "outputs": [
    {
     "name": "stderr",
     "output_type": "stream",
     "text": [
      "2023-04-30 18:43:12.338 | WARNING  | libraries.pdb:get_seqclust:135 - Assigning cluster for obsolete entry via superceding: 5jn1->6uzu A\n",
      "2023-04-30 18:47:39.087 | WARNING  | libraries.pdb:get_seqclust:135 - Assigning cluster for obsolete entry via superceding: 4iqq->5noo A\n",
      "2023-04-30 18:47:39.305 | WARNING  | libraries.pdb:get_seqclust:135 - Assigning cluster for obsolete entry via superceding: 4iqq->5noo C\n",
      "2023-04-30 18:49:26.740 | WARNING  | libraries.pdb:get_seqclust:135 - Assigning cluster for obsolete entry via superceding: 5urr->7mtx D\n",
      "2023-04-30 18:50:04.122 | WARNING  | libraries.pdb:get_seqclust:135 - Assigning cluster for obsolete entry via superceding: 5byh->5nwt B\n",
      "2023-04-30 18:51:04.746 | WARNING  | libraries.pdb:get_seqclust:135 - Assigning cluster for obsolete entry via superceding: 4wto->6kjb A\n",
      "2023-04-30 18:51:25.277 | WARNING  | libraries.pdb:get_seqclust:135 - Assigning cluster for obsolete entry via superceding: 4ror->5ulv A\n",
      "2023-04-30 18:51:32.623 | WARNING  | libraries.pdb:get_seqclust:135 - Assigning cluster for obsolete entry via superceding: 5byh->5nwt C\n",
      "2023-04-30 18:54:16.453 | WARNING  | libraries.pdb:get_seqclust:135 - Assigning cluster for obsolete entry via superceding: 3r5q->7ve3 A\n",
      "2023-04-30 18:54:57.082 | WARNING  | libraries.pdb:get_seqclust:135 - Assigning cluster for obsolete entry via superceding: 6fed->6eyd B\n",
      "2023-04-30 18:54:57.892 | WARNING  | libraries.pdb:get_seqclust:135 - Assigning cluster for obsolete entry via superceding: 6fed->6eyd A\n",
      "2023-04-30 18:56:11.172 | WARNING  | libraries.pdb:get_seqclust:135 - Assigning cluster for obsolete entry via superceding: 6ihz->7emn A\n",
      "2023-04-30 18:56:13.418 | WARNING  | libraries.pdb:get_seqclust:135 - Assigning cluster for obsolete entry via superceding: 6ihz->7emn B\n",
      "2023-04-30 18:58:55.187 | WARNING  | libraries.pdb:get_seqclust:135 - Assigning cluster for obsolete entry via superceding: 6g7t->6qmh A\n",
      "2023-04-30 18:58:55.503 | WARNING  | libraries.pdb:get_seqclust:135 - Assigning cluster for obsolete entry via superceding: 6g7v->6qmg A\n",
      "2023-04-30 18:58:55.818 | WARNING  | libraries.pdb:get_seqclust:135 - Assigning cluster for obsolete entry via superceding: 6g7s->6qmi A\n",
      "2023-04-30 19:00:44.248 | WARNING  | libraries.pdb:get_seqclust:135 - Assigning cluster for obsolete entry via superceding: 6fed->6eyd E\n",
      "2023-04-30 19:00:44.650 | WARNING  | libraries.pdb:get_seqclust:135 - Assigning cluster for obsolete entry via superceding: 6fed->6eyd D\n",
      "2023-04-30 19:00:51.237 | WARNING  | libraries.pdb:get_seqclust:135 - Assigning cluster for obsolete entry via superceding: 6fed->6eyd C\n",
      "2023-04-30 19:03:00.047 | WARNING  | libraries.pdb:get_seqclust:135 - Assigning cluster for obsolete entry via superceding: 5iun->7ssj A\n",
      "2023-04-30 19:03:00.265 | WARNING  | libraries.pdb:get_seqclust:135 - Assigning cluster for obsolete entry via superceding: 5iun->7ssj E\n",
      "2023-04-30 19:03:00.361 | WARNING  | libraries.pdb:get_seqclust:135 - Assigning cluster for obsolete entry via superceding: 5iun->7ssj B\n",
      "2023-04-30 19:06:39.877 | WARNING  | libraries.pdb:get_seqclust:135 - Assigning cluster for obsolete entry via superceding: 1bvs->7oa5 D\n",
      "2023-04-30 19:06:40.230 | WARNING  | libraries.pdb:get_seqclust:135 - Assigning cluster for obsolete entry via superceding: 1bvs->7oa5 A\n",
      "2023-04-30 19:06:40.338 | WARNING  | libraries.pdb:get_seqclust:135 - Assigning cluster for obsolete entry via superceding: 1bvs->7oa5 C\n",
      "2023-04-30 19:06:40.445 | WARNING  | libraries.pdb:get_seqclust:135 - Assigning cluster for obsolete entry via superceding: 1bvs->7oa5 E\n",
      "2023-04-30 19:06:40.544 | WARNING  | libraries.pdb:get_seqclust:135 - Assigning cluster for obsolete entry via superceding: 1bvs->7oa5 H\n",
      "2023-04-30 19:07:09.525 | WARNING  | libraries.pdb:get_seqclust:135 - Assigning cluster for obsolete entry via superceding: 5hbg->6ahi B\n",
      "2023-04-30 19:07:09.879 | WARNING  | libraries.pdb:get_seqclust:135 - Assigning cluster for obsolete entry via superceding: 5hbg->6ahi A\n",
      "2023-04-30 19:11:41.409 | WARNING  | libraries.pdb:get_seqclust:135 - Assigning cluster for obsolete entry via superceding: 5obl->7obe A\n",
      "2023-04-30 19:11:41.825 | WARNING  | libraries.pdb:get_seqclust:135 - Assigning cluster for obsolete entry via superceding: 5obl->7obe B\n",
      "2023-04-30 19:12:09.413 | WARNING  | libraries.pdb:get_seqclust:135 - Assigning cluster for obsolete entry via superceding: 4rzu->5h70 A\n",
      "2023-04-30 19:12:21.721 | WARNING  | libraries.pdb:get_seqclust:135 - Assigning cluster for obsolete entry via superceding: 4ojy->5dfa B\n",
      "2023-04-30 19:12:21.822 | WARNING  | libraries.pdb:get_seqclust:135 - Assigning cluster for obsolete entry via superceding: 4ojy->5dfa C\n",
      "2023-04-30 19:12:21.953 | WARNING  | libraries.pdb:get_seqclust:135 - Assigning cluster for obsolete entry via superceding: 4ojy->5dfa A\n",
      "2023-04-30 19:12:42.564 | WARNING  | libraries.pdb:get_seqclust:135 - Assigning cluster for obsolete entry via superceding: 6gt1->6s73 C\n",
      "2023-04-30 19:12:42.899 | WARNING  | libraries.pdb:get_seqclust:135 - Assigning cluster for obsolete entry via superceding: 6gt1->6s73 A\n",
      "2023-04-30 19:12:42.998 | WARNING  | libraries.pdb:get_seqclust:135 - Assigning cluster for obsolete entry via superceding: 6gt1->6s73 D\n",
      "2023-04-30 19:12:43.100 | WARNING  | libraries.pdb:get_seqclust:135 - Assigning cluster for obsolete entry via superceding: 6gt1->6s73 B\n",
      "2023-04-30 19:14:45.451 | WARNING  | libraries.pdb:get_seqclust:135 - Assigning cluster for obsolete entry via superceding: 6eqn->6hte D\n",
      "2023-04-30 19:16:00.951 | WARNING  | libraries.pdb:get_seqclust:135 - Assigning cluster for obsolete entry via superceding: 3ohm->7sq2 B\n",
      "2023-04-30 19:16:27.776 | WARNING  | libraries.pdb:get_seqclust:135 - Assigning cluster for obsolete entry via superceding: 4fxg->5jpm H\n",
      "2023-04-30 19:16:27.991 | WARNING  | libraries.pdb:get_seqclust:135 - Assigning cluster for obsolete entry via superceding: 4fxg->5jpm J\n",
      "2023-04-30 19:18:00.018 | WARNING  | libraries.pdb:get_seqclust:135 - Assigning cluster for obsolete entry via superceding: 5xwq->7fbt A\n",
      "2023-04-30 19:18:54.746 | WARNING  | libraries.pdb:get_seqclust:135 - Assigning cluster for obsolete entry via superceding: 4fxg->5jpm G\n",
      "2023-04-30 19:18:54.946 | WARNING  | libraries.pdb:get_seqclust:135 - Assigning cluster for obsolete entry via superceding: 4fxg->5jpm I\n",
      "2023-04-30 19:21:36.919 | WARNING  | libraries.pdb:get_seqclust:135 - Assigning cluster for obsolete entry via superceding: 2i6l->7aqb B\n",
      "2023-04-30 19:21:37.155 | WARNING  | libraries.pdb:get_seqclust:135 - Assigning cluster for obsolete entry via superceding: 2i6l->7aqb A\n",
      "2023-04-30 19:23:52.172 | WARNING  | libraries.pdb:get_seqclust:135 - Assigning cluster for obsolete entry via superceding: 5x8o->6lk4 A\n"
     ]
    }
   ],
   "source": [
    "labels['clusters'] = labels.apply(lambda x: clusters.get_seqclust(pdb_code=x['pdb_id'], chain_id=x['chain']), axis=1)"
   ]
  },
  {
   "attachments": {},
   "cell_type": "markdown",
   "metadata": {},
   "source": [
    "Now it is important to check structure of the data that we got."
   ]
  },
  {
   "cell_type": "code",
   "execution_count": 8,
   "metadata": {},
   "outputs": [
    {
     "data": {
      "text/plain": [
       "108       519\n",
       "33        276\n",
       "41        262\n",
       "266       247\n",
       "63        221\n",
       "         ... \n",
       "128427      1\n",
       "52376       1\n",
       "130437      1\n",
       "133217      1\n",
       "132599      1\n",
       "Name: clusters, Length: 5131, dtype: int64"
      ]
     },
     "execution_count": 8,
     "metadata": {},
     "output_type": "execute_result"
    }
   ],
   "source": [
    "labels.clusters.value_counts()"
   ]
  },
  {
   "cell_type": "code",
   "execution_count": 9,
   "metadata": {},
   "outputs": [
    {
     "data": {
      "text/plain": [
       "357    1506\n",
       "351    1062\n",
       "23      836\n",
       "215     694\n",
       "162     626\n",
       "       ... \n",
       "280      14\n",
       "200      13\n",
       "206       8\n",
       "291       8\n",
       "196       7\n",
       "Name: label, Length: 384, dtype: int64"
      ]
     },
     "execution_count": 9,
     "metadata": {},
     "output_type": "execute_result"
    }
   ],
   "source": [
    "labels.label.value_counts()"
   ]
  },
  {
   "cell_type": "code",
   "execution_count": 11,
   "metadata": {},
   "outputs": [
    {
     "data": {
      "text/html": [
       "<div>\n",
       "<style scoped>\n",
       "    .dataframe tbody tr th:only-of-type {\n",
       "        vertical-align: middle;\n",
       "    }\n",
       "\n",
       "    .dataframe tbody tr th {\n",
       "        vertical-align: top;\n",
       "    }\n",
       "\n",
       "    .dataframe thead th {\n",
       "        text-align: right;\n",
       "    }\n",
       "</style>\n",
       "<table border=\"1\" class=\"dataframe\">\n",
       "  <thead>\n",
       "    <tr style=\"text-align: right;\">\n",
       "      <th></th>\n",
       "      <th>chain_id</th>\n",
       "      <th>label</th>\n",
       "      <th>pdb_id</th>\n",
       "      <th>chain</th>\n",
       "      <th>clusters</th>\n",
       "    </tr>\n",
       "  </thead>\n",
       "  <tbody>\n",
       "    <tr>\n",
       "      <th>35964</th>\n",
       "      <td>5dud.D</td>\n",
       "      <td>291</td>\n",
       "      <td>5dud</td>\n",
       "      <td>D</td>\n",
       "      <td>25995</td>\n",
       "    </tr>\n",
       "    <tr>\n",
       "      <th>35965</th>\n",
       "      <td>5dud.B</td>\n",
       "      <td>291</td>\n",
       "      <td>5dud</td>\n",
       "      <td>B</td>\n",
       "      <td>25995</td>\n",
       "    </tr>\n",
       "    <tr>\n",
       "      <th>35966</th>\n",
       "      <td>5dud.A</td>\n",
       "      <td>291</td>\n",
       "      <td>5dud</td>\n",
       "      <td>A</td>\n",
       "      <td>32016</td>\n",
       "    </tr>\n",
       "    <tr>\n",
       "      <th>35967</th>\n",
       "      <td>5dud.C</td>\n",
       "      <td>291</td>\n",
       "      <td>5dud</td>\n",
       "      <td>C</td>\n",
       "      <td>32016</td>\n",
       "    </tr>\n",
       "    <tr>\n",
       "      <th>36603</th>\n",
       "      <td>2xu2.A</td>\n",
       "      <td>291</td>\n",
       "      <td>2xu2</td>\n",
       "      <td>A</td>\n",
       "      <td>9752</td>\n",
       "    </tr>\n",
       "    <tr>\n",
       "      <th>36890</th>\n",
       "      <td>2dfa.A</td>\n",
       "      <td>291</td>\n",
       "      <td>2dfa</td>\n",
       "      <td>A</td>\n",
       "      <td>627</td>\n",
       "    </tr>\n",
       "    <tr>\n",
       "      <th>37309</th>\n",
       "      <td>1v6t.A</td>\n",
       "      <td>291</td>\n",
       "      <td>1v6t</td>\n",
       "      <td>A</td>\n",
       "      <td>627</td>\n",
       "    </tr>\n",
       "    <tr>\n",
       "      <th>37407</th>\n",
       "      <td>1xw8.A</td>\n",
       "      <td>291</td>\n",
       "      <td>1xw8</td>\n",
       "      <td>A</td>\n",
       "      <td>627</td>\n",
       "    </tr>\n",
       "  </tbody>\n",
       "</table>\n",
       "</div>"
      ],
      "text/plain": [
       "      chain_id  label pdb_id chain  clusters\n",
       "35964   5dud.D    291   5dud     D     25995\n",
       "35965   5dud.B    291   5dud     B     25995\n",
       "35966   5dud.A    291   5dud     A     32016\n",
       "35967   5dud.C    291   5dud     C     32016\n",
       "36603   2xu2.A    291   2xu2     A      9752\n",
       "36890   2dfa.A    291   2dfa     A       627\n",
       "37309   1v6t.A    291   1v6t     A       627\n",
       "37407   1xw8.A    291   1xw8     A       627"
      ]
     },
     "execution_count": 11,
     "metadata": {},
     "output_type": "execute_result"
    }
   ],
   "source": [
    "labels[labels.label==291]"
   ]
  },
  {
   "attachments": {},
   "cell_type": "markdown",
   "metadata": {},
   "source": [
    "From previous code we can see that we cannot make a split which divides data in more than 4 splits, so we will choose to split data in 4 splits."
   ]
  },
  {
   "cell_type": "code",
   "execution_count": 12,
   "metadata": {},
   "outputs": [],
   "source": [
    "splits_num = [[0 for i in range(384)] for j in range(4)]\n",
    "splits = [[],[],[],[]]"
   ]
  },
  {
   "cell_type": "code",
   "execution_count": 13,
   "metadata": {},
   "outputs": [
    {
     "name": "stderr",
     "output_type": "stream",
     "text": [
      "100%|██████████| 384/384 [00:07<00:00, 54.48it/s]\n"
     ]
    }
   ],
   "source": [
    "from tqdm import tqdm\n",
    "\n",
    "classes_sorted = (labels.label.value_counts().index.values.tolist())\n",
    "classes_sorted.reverse()\n",
    "\n",
    "for i in tqdm(classes_sorted):\n",
    "    clusters = labels[labels.label==i].clusters.value_counts().index.values.tolist()\n",
    "    new_clusters = []\n",
    "    for cluster in clusters:\n",
    "        if (cluster in splits[0]) or (cluster in splits[1]) or (cluster in splits[2]) or (cluster in splits[3]):\n",
    "            pass\n",
    "        else:\n",
    "            new_clusters.append(cluster)\n",
    "    for cluster in new_clusters:\n",
    "        splits = [x for x,_ in sorted(zip(splits,splits_num), key = lambda l: l[1][i], reverse=True)]\n",
    "        splits_num = sorted(splits_num, key= lambda l: l[i], reverse=True)\n",
    "        splits[-1].extend([cluster])\n",
    "        indices = labels[labels.clusters==cluster].label.value_counts().index.values.tolist()\n",
    "        counts = labels[labels.clusters==cluster].label.value_counts().tolist()\n",
    "        for j in range(len(indices)):\n",
    "            splits_num[-1][indices[j]]+=counts[j]"
   ]
  },
  {
   "cell_type": "code",
   "execution_count": 21,
   "metadata": {},
   "outputs": [
    {
     "data": {
      "text/plain": [
       "357    377\n",
       "178    262\n",
       "23     247\n",
       "215    174\n",
       "351    134\n",
       "      ... \n",
       "335      3\n",
       "291      2\n",
       "196      2\n",
       "72       2\n",
       "206      1\n",
       "Name: label, Length: 384, dtype: int64"
      ]
     },
     "execution_count": 21,
     "metadata": {},
     "output_type": "execute_result"
    }
   ],
   "source": [
    "labels[labels.clusters.isin(splits[3])].label.value_counts()"
   ]
  },
  {
   "attachments": {},
   "cell_type": "markdown",
   "metadata": {},
   "source": [
    "And final step is to save data splits."
   ]
  },
  {
   "cell_type": "code",
   "execution_count": 22,
   "metadata": {},
   "outputs": [],
   "source": [
    "os.mkdir(\"./data/enzyme_data/splits\")\n",
    "\n",
    "for i in range(4):\n",
    "    labels[labels.clusters.isin(splits[i])][['chain_id','label']].to_csv(\"./data/enzyme_data/splits/split\" + str(i) + \".txt\",header=False,index=False)"
   ]
  },
  {
   "attachments": {},
   "cell_type": "markdown",
   "metadata": {},
   "source": [
    "### Protein Domain Motion Dataset"
   ]
  },
  {
   "attachments": {},
   "cell_type": "markdown",
   "metadata": {},
   "source": [
    "Firstly, we need to prepare cluster fatching object."
   ]
  },
  {
   "cell_type": "code",
   "execution_count": 2,
   "metadata": {},
   "outputs": [
    {
     "name": "stderr",
     "output_type": "stream",
     "text": [
      "2023-04-30 18:22:57.600 | INFO     | libraries.pdb:_fetch_cluster_file:80 - cluster file path: .\\data\\domain_data\\pdb_clusters_30.txt\n"
     ]
    }
   ],
   "source": [
    "clusters = RcsbPdbClusters(cluster_dir = \".\\data\\domain_data\")"
   ]
  },
  {
   "attachments": {},
   "cell_type": "markdown",
   "metadata": {},
   "source": [
    "Now it is important to load the data and explore it."
   ]
  },
  {
   "cell_type": "code",
   "execution_count": 3,
   "metadata": {},
   "outputs": [
    {
     "data": {
      "text/html": [
       "<div>\n",
       "<style scoped>\n",
       "    .dataframe tbody tr th:only-of-type {\n",
       "        vertical-align: middle;\n",
       "    }\n",
       "\n",
       "    .dataframe tbody tr th {\n",
       "        vertical-align: top;\n",
       "    }\n",
       "\n",
       "    .dataframe thead th {\n",
       "        text-align: right;\n",
       "    }\n",
       "</style>\n",
       "<table border=\"1\" class=\"dataframe\">\n",
       "  <thead>\n",
       "    <tr style=\"text-align: right;\">\n",
       "      <th></th>\n",
       "      <th>Unnamed: 0</th>\n",
       "      <th>level_0</th>\n",
       "      <th>index</th>\n",
       "      <th>PSCID</th>\n",
       "      <th>Protein Name</th>\n",
       "      <th>Free form</th>\n",
       "      <th>Bound form</th>\n",
       "      <th>Ligands</th>\n",
       "      <th>Classification(?)</th>\n",
       "      <th>motion_type</th>\n",
       "      <th>Free PDB</th>\n",
       "      <th>Free Chains</th>\n",
       "      <th>Bound PDB</th>\n",
       "      <th>Bound Chains</th>\n",
       "    </tr>\n",
       "  </thead>\n",
       "  <tbody>\n",
       "    <tr>\n",
       "      <th>0</th>\n",
       "      <td>0</td>\n",
       "      <td>0</td>\n",
       "      <td>0</td>\n",
       "      <td>CD.1</td>\n",
       "      <td>HYPOTHETICAL OXIDOREDUCTASE YIAK</td>\n",
       "      <td>1nxu_AB</td>\n",
       "      <td>1s20_AB</td>\n",
       "      <td>2xNAD,2xTLA</td>\n",
       "      <td>200004</td>\n",
       "      <td>coupled_domain_motion</td>\n",
       "      <td>1nxu</td>\n",
       "      <td>AB</td>\n",
       "      <td>1s20</td>\n",
       "      <td>AB</td>\n",
       "    </tr>\n",
       "    <tr>\n",
       "      <th>1</th>\n",
       "      <td>1</td>\n",
       "      <td>1</td>\n",
       "      <td>1</td>\n",
       "      <td>CD.2</td>\n",
       "      <td>ADENYLATE KINASE</td>\n",
       "      <td>4ake_A</td>\n",
       "      <td>2eck_A</td>\n",
       "      <td>ADP,AMP</td>\n",
       "      <td>200003</td>\n",
       "      <td>coupled_domain_motion</td>\n",
       "      <td>4ake</td>\n",
       "      <td>A</td>\n",
       "      <td>2eck</td>\n",
       "      <td>A</td>\n",
       "    </tr>\n",
       "    <tr>\n",
       "      <th>2</th>\n",
       "      <td>2</td>\n",
       "      <td>2</td>\n",
       "      <td>2</td>\n",
       "      <td>CD.3</td>\n",
       "      <td>GLUCOKINASE</td>\n",
       "      <td>1q18_AB</td>\n",
       "      <td>1sz2_AB</td>\n",
       "      <td>2xBGC</td>\n",
       "      <td>200003</td>\n",
       "      <td>coupled_domain_motion</td>\n",
       "      <td>1q18</td>\n",
       "      <td>AB</td>\n",
       "      <td>1sz2</td>\n",
       "      <td>AB</td>\n",
       "    </tr>\n",
       "    <tr>\n",
       "      <th>3</th>\n",
       "      <td>3</td>\n",
       "      <td>3</td>\n",
       "      <td>3</td>\n",
       "      <td>CD.4</td>\n",
       "      <td>LACTOFERRIN</td>\n",
       "      <td>1lfh_A</td>\n",
       "      <td>1lfi_A</td>\n",
       "      <td>2xCU,2xNAG</td>\n",
       "      <td>110103</td>\n",
       "      <td>coupled_domain_motion</td>\n",
       "      <td>1lfh</td>\n",
       "      <td>A</td>\n",
       "      <td>1lfi</td>\n",
       "      <td>A</td>\n",
       "    </tr>\n",
       "    <tr>\n",
       "      <th>4</th>\n",
       "      <td>4</td>\n",
       "      <td>4</td>\n",
       "      <td>4</td>\n",
       "      <td>CD.5</td>\n",
       "      <td>ELONGATION FACTOR 2</td>\n",
       "      <td>1n0v_D</td>\n",
       "      <td>1n0u_A</td>\n",
       "      <td>SO1</td>\n",
       "      <td>110002</td>\n",
       "      <td>coupled_domain_motion</td>\n",
       "      <td>1n0v</td>\n",
       "      <td>D</td>\n",
       "      <td>1n0u</td>\n",
       "      <td>A</td>\n",
       "    </tr>\n",
       "  </tbody>\n",
       "</table>\n",
       "</div>"
      ],
      "text/plain": [
       "   Unnamed: 0  level_0  index PSCID                      Protein Name  \\\n",
       "0           0        0      0  CD.1  HYPOTHETICAL OXIDOREDUCTASE YIAK   \n",
       "1           1        1      1  CD.2                  ADENYLATE KINASE   \n",
       "2           2        2      2  CD.3                       GLUCOKINASE   \n",
       "3           3        3      3  CD.4                       LACTOFERRIN   \n",
       "4           4        4      4  CD.5               ELONGATION FACTOR 2   \n",
       "\n",
       "  Free form Bound form      Ligands  Classification(?)            motion_type  \\\n",
       "0   1nxu_AB    1s20_AB  2xNAD,2xTLA             200004  coupled_domain_motion   \n",
       "1    4ake_A     2eck_A      ADP,AMP             200003  coupled_domain_motion   \n",
       "2   1q18_AB    1sz2_AB        2xBGC             200003  coupled_domain_motion   \n",
       "3    1lfh_A     1lfi_A   2xCU,2xNAG             110103  coupled_domain_motion   \n",
       "4    1n0v_D     1n0u_A          SO1             110002  coupled_domain_motion   \n",
       "\n",
       "  Free PDB Free Chains Bound PDB Bound Chains  \n",
       "0     1nxu          AB      1s20           AB  \n",
       "1     4ake           A      2eck            A  \n",
       "2     1q18          AB      1sz2           AB  \n",
       "3     1lfh           A      1lfi            A  \n",
       "4     1n0v           D      1n0u            A  "
      ]
     },
     "execution_count": 3,
     "metadata": {},
     "output_type": "execute_result"
    }
   ],
   "source": [
    "df = pd.read_csv('./data/domain_data/structural_rearrangement_data.csv')\n",
    "df.head()"
   ]
  },
  {
   "attachments": {},
   "cell_type": "markdown",
   "metadata": {},
   "source": [
    "We can see that we have a table in which we have numerous columns. But the most interesting for us are: classes (motion_type) and inputs (Free PDB and Free Chains). The reason for choosing free proteins instead of bound ones is that our task is to predict types of motions protein can have from minimum potential well energy and those configurations are represented in free forms."
   ]
  },
  {
   "cell_type": "code",
   "execution_count": 4,
   "metadata": {},
   "outputs": [],
   "source": [
    "df['classes'] = df['motion_type'].replace({\"coupled_domain_motion\": 0, \"independent_domain_motion\":1, \"independent_local_motion\":2, \"burying_ligand_motion\":3 , 'coupled_local_motion':4, \"no_significant_motion\":5, \"other_motion\":6})\n",
    "important_df = df[[\"Free PDB\", \"Free Chains\", \"classes\"]]"
   ]
  },
  {
   "attachments": {},
   "cell_type": "markdown",
   "metadata": {},
   "source": [
    "To make our task easier, we will extract only necessary columns with encodings of the classes as presented in the code above. As this task includes multi chain proteins, for which data is only available per chain, we are forced to work only on single chain proteins. This is because the problem of obtaining the full multi chain structure with correct coordiantes is hard."
   ]
  },
  {
   "cell_type": "code",
   "execution_count": 5,
   "metadata": {},
   "outputs": [
    {
     "data": {
      "text/html": [
       "<div>\n",
       "<style scoped>\n",
       "    .dataframe tbody tr th:only-of-type {\n",
       "        vertical-align: middle;\n",
       "    }\n",
       "\n",
       "    .dataframe tbody tr th {\n",
       "        vertical-align: top;\n",
       "    }\n",
       "\n",
       "    .dataframe thead th {\n",
       "        text-align: right;\n",
       "    }\n",
       "</style>\n",
       "<table border=\"1\" class=\"dataframe\">\n",
       "  <thead>\n",
       "    <tr style=\"text-align: right;\">\n",
       "      <th></th>\n",
       "      <th>Free PDB</th>\n",
       "      <th>Free Chains</th>\n",
       "      <th>classes</th>\n",
       "    </tr>\n",
       "  </thead>\n",
       "  <tbody>\n",
       "    <tr>\n",
       "      <th>1</th>\n",
       "      <td>4ake</td>\n",
       "      <td>A</td>\n",
       "      <td>0</td>\n",
       "    </tr>\n",
       "    <tr>\n",
       "      <th>3</th>\n",
       "      <td>1lfh</td>\n",
       "      <td>A</td>\n",
       "      <td>0</td>\n",
       "    </tr>\n",
       "    <tr>\n",
       "      <th>4</th>\n",
       "      <td>1n0v</td>\n",
       "      <td>D</td>\n",
       "      <td>0</td>\n",
       "    </tr>\n",
       "    <tr>\n",
       "      <th>6</th>\n",
       "      <td>2p0m</td>\n",
       "      <td>A</td>\n",
       "      <td>0</td>\n",
       "    </tr>\n",
       "    <tr>\n",
       "      <th>7</th>\n",
       "      <td>3cze</td>\n",
       "      <td>A</td>\n",
       "      <td>0</td>\n",
       "    </tr>\n",
       "  </tbody>\n",
       "</table>\n",
       "</div>"
      ],
      "text/plain": [
       "  Free PDB Free Chains  classes\n",
       "1     4ake           A        0\n",
       "3     1lfh           A        0\n",
       "4     1n0v           D        0\n",
       "6     2p0m           A        0\n",
       "7     3cze           A        0"
      ]
     },
     "execution_count": 5,
     "metadata": {},
     "output_type": "execute_result"
    }
   ],
   "source": [
    "important_df = important_df.loc[important_df[\"Free Chains\"].str.len() == 1]\n",
    "important_df.head()"
   ]
  },
  {
   "attachments": {},
   "cell_type": "markdown",
   "metadata": {},
   "source": [
    "Now we need to make sure that each chain appears only under one class. This task can be extended to multilabel problem, but for the purpose of this porject we are going to stick only to chains which belong to a single class."
   ]
  },
  {
   "cell_type": "code",
   "execution_count": 6,
   "metadata": {},
   "outputs": [],
   "source": [
    "important_df = important_df.drop(important_df[important_df.classes==6].index)\n",
    "important_df = important_df.drop_duplicates(subset=[\"Free Chains\", \"Free PDB\"], keep = False)"
   ]
  },
  {
   "attachments": {},
   "cell_type": "markdown",
   "metadata": {},
   "source": [
    "Now the question is raised to why we deleted the whole class 6. This class corresponds to other motion. It turns out that all elements of class 3 experience other motion, but with different ligands, so we decided to leave them out. On the other hand, for all other duplicates, we are deleting all repetances. Now we have obtained sequences which can be used for training, but important thing is to firstly check whether they are present in our LMDB database of structures."
   ]
  },
  {
   "cell_type": "code",
   "execution_count": 7,
   "metadata": {},
   "outputs": [
    {
     "name": "stderr",
     "output_type": "stream",
     "text": [
      "100%|██████████| 497/497 [00:02<00:00, 200.31it/s]\n"
     ]
    },
    {
     "data": {
      "text/plain": [
       "256"
      ]
     },
     "execution_count": 7,
     "metadata": {},
     "output_type": "execute_result"
    }
   ],
   "source": [
    "database = LMDBDataset(\"./data/pdb_data\")\n",
    "\n",
    "warnings.filterwarnings(\"error\")\n",
    "flex = \"msqf\"\n",
    "\n",
    "important_df[\"chain_id\"] = important_df[\"Free PDB\"] + \".\" + important_df[\"Free Chains\"]\n",
    "\n",
    "missing_ids = []\n",
    "for id in tqdm(set(important_df.chain_id)):\n",
    "    PDBid, chain = id.split(\".\")\n",
    "    if(PDBid in database):\n",
    "        structure = database[PDBid][\"structure\"]\n",
    "        x = DataPreProcessorForGNM(type_flexibility = flex, num_modes=10)\n",
    "        protein_chain = structure[(structure.chain_id == chain) & struc.filter_amino_acids(structure)] \n",
    "        if(not is_chain_valid(protein_chain)):\n",
    "            missing_ids.extend([id])\n",
    "    else:\n",
    "        missing_ids.extend([id])\n",
    "len(missing_ids)"
   ]
  },
  {
   "attachments": {},
   "cell_type": "markdown",
   "metadata": {},
   "source": [
    "Now we are only going to take sequences for which we have obtained full structures in our LMDB database."
   ]
  },
  {
   "cell_type": "code",
   "execution_count": 8,
   "metadata": {},
   "outputs": [
    {
     "data": {
      "text/html": [
       "<div>\n",
       "<style scoped>\n",
       "    .dataframe tbody tr th:only-of-type {\n",
       "        vertical-align: middle;\n",
       "    }\n",
       "\n",
       "    .dataframe tbody tr th {\n",
       "        vertical-align: top;\n",
       "    }\n",
       "\n",
       "    .dataframe thead th {\n",
       "        text-align: right;\n",
       "    }\n",
       "</style>\n",
       "<table border=\"1\" class=\"dataframe\">\n",
       "  <thead>\n",
       "    <tr style=\"text-align: right;\">\n",
       "      <th></th>\n",
       "      <th>Free PDB</th>\n",
       "      <th>Free Chains</th>\n",
       "      <th>classes</th>\n",
       "      <th>chain_id</th>\n",
       "    </tr>\n",
       "  </thead>\n",
       "  <tbody>\n",
       "    <tr>\n",
       "      <th>1</th>\n",
       "      <td>4ake</td>\n",
       "      <td>A</td>\n",
       "      <td>0</td>\n",
       "      <td>4ake.A</td>\n",
       "    </tr>\n",
       "    <tr>\n",
       "      <th>6</th>\n",
       "      <td>2p0m</td>\n",
       "      <td>A</td>\n",
       "      <td>0</td>\n",
       "      <td>2p0m.A</td>\n",
       "    </tr>\n",
       "    <tr>\n",
       "      <th>7</th>\n",
       "      <td>3cze</td>\n",
       "      <td>A</td>\n",
       "      <td>0</td>\n",
       "      <td>3cze.A</td>\n",
       "    </tr>\n",
       "    <tr>\n",
       "      <th>9</th>\n",
       "      <td>2ex0</td>\n",
       "      <td>B</td>\n",
       "      <td>0</td>\n",
       "      <td>2ex0.B</td>\n",
       "    </tr>\n",
       "    <tr>\n",
       "      <th>14</th>\n",
       "      <td>2gg4</td>\n",
       "      <td>A</td>\n",
       "      <td>0</td>\n",
       "      <td>2gg4.A</td>\n",
       "    </tr>\n",
       "    <tr>\n",
       "      <th>...</th>\n",
       "      <td>...</td>\n",
       "      <td>...</td>\n",
       "      <td>...</td>\n",
       "      <td>...</td>\n",
       "    </tr>\n",
       "    <tr>\n",
       "      <th>770</th>\n",
       "      <td>2r60</td>\n",
       "      <td>A</td>\n",
       "      <td>5</td>\n",
       "      <td>2r60.A</td>\n",
       "    </tr>\n",
       "    <tr>\n",
       "      <th>783</th>\n",
       "      <td>1hf8</td>\n",
       "      <td>A</td>\n",
       "      <td>5</td>\n",
       "      <td>1hf8.A</td>\n",
       "    </tr>\n",
       "    <tr>\n",
       "      <th>784</th>\n",
       "      <td>3c7m</td>\n",
       "      <td>B</td>\n",
       "      <td>5</td>\n",
       "      <td>3c7m.B</td>\n",
       "    </tr>\n",
       "    <tr>\n",
       "      <th>785</th>\n",
       "      <td>2q22</td>\n",
       "      <td>C</td>\n",
       "      <td>5</td>\n",
       "      <td>2q22.C</td>\n",
       "    </tr>\n",
       "    <tr>\n",
       "      <th>787</th>\n",
       "      <td>2qb0</td>\n",
       "      <td>A</td>\n",
       "      <td>5</td>\n",
       "      <td>2qb0.A</td>\n",
       "    </tr>\n",
       "  </tbody>\n",
       "</table>\n",
       "<p>241 rows × 4 columns</p>\n",
       "</div>"
      ],
      "text/plain": [
       "    Free PDB Free Chains  classes chain_id\n",
       "1       4ake           A        0   4ake.A\n",
       "6       2p0m           A        0   2p0m.A\n",
       "7       3cze           A        0   3cze.A\n",
       "9       2ex0           B        0   2ex0.B\n",
       "14      2gg4           A        0   2gg4.A\n",
       "..       ...         ...      ...      ...\n",
       "770     2r60           A        5   2r60.A\n",
       "783     1hf8           A        5   1hf8.A\n",
       "784     3c7m           B        5   3c7m.B\n",
       "785     2q22           C        5   2q22.C\n",
       "787     2qb0           A        5   2qb0.A\n",
       "\n",
       "[241 rows x 4 columns]"
      ]
     },
     "execution_count": 8,
     "metadata": {},
     "output_type": "execute_result"
    }
   ],
   "source": [
    "important_df = important_df[~important_df.chain_id.isin(missing_ids)]\n",
    "important_df"
   ]
  },
  {
   "attachments": {},
   "cell_type": "markdown",
   "metadata": {},
   "source": [
    "Now that we have done this, it is important to attach clusters to sequences."
   ]
  },
  {
   "cell_type": "code",
   "execution_count": 9,
   "metadata": {},
   "outputs": [
    {
     "data": {
      "text/html": [
       "<div>\n",
       "<style scoped>\n",
       "    .dataframe tbody tr th:only-of-type {\n",
       "        vertical-align: middle;\n",
       "    }\n",
       "\n",
       "    .dataframe tbody tr th {\n",
       "        vertical-align: top;\n",
       "    }\n",
       "\n",
       "    .dataframe thead th {\n",
       "        text-align: right;\n",
       "    }\n",
       "</style>\n",
       "<table border=\"1\" class=\"dataframe\">\n",
       "  <thead>\n",
       "    <tr style=\"text-align: right;\">\n",
       "      <th></th>\n",
       "      <th>Free PDB</th>\n",
       "      <th>Free Chains</th>\n",
       "      <th>classes</th>\n",
       "      <th>clusters</th>\n",
       "    </tr>\n",
       "  </thead>\n",
       "  <tbody>\n",
       "    <tr>\n",
       "      <th>0</th>\n",
       "      <td>4ake</td>\n",
       "      <td>A</td>\n",
       "      <td>0</td>\n",
       "      <td>82</td>\n",
       "    </tr>\n",
       "    <tr>\n",
       "      <th>1</th>\n",
       "      <td>2p0m</td>\n",
       "      <td>A</td>\n",
       "      <td>0</td>\n",
       "      <td>2915</td>\n",
       "    </tr>\n",
       "    <tr>\n",
       "      <th>2</th>\n",
       "      <td>3cze</td>\n",
       "      <td>A</td>\n",
       "      <td>0</td>\n",
       "      <td>4761</td>\n",
       "    </tr>\n",
       "    <tr>\n",
       "      <th>3</th>\n",
       "      <td>2ex0</td>\n",
       "      <td>B</td>\n",
       "      <td>0</td>\n",
       "      <td>6623</td>\n",
       "    </tr>\n",
       "    <tr>\n",
       "      <th>4</th>\n",
       "      <td>2gg4</td>\n",
       "      <td>A</td>\n",
       "      <td>0</td>\n",
       "      <td>188</td>\n",
       "    </tr>\n",
       "    <tr>\n",
       "      <th>...</th>\n",
       "      <td>...</td>\n",
       "      <td>...</td>\n",
       "      <td>...</td>\n",
       "      <td>...</td>\n",
       "    </tr>\n",
       "    <tr>\n",
       "      <th>236</th>\n",
       "      <td>2r60</td>\n",
       "      <td>A</td>\n",
       "      <td>5</td>\n",
       "      <td>43904</td>\n",
       "    </tr>\n",
       "    <tr>\n",
       "      <th>237</th>\n",
       "      <td>1hf8</td>\n",
       "      <td>A</td>\n",
       "      <td>5</td>\n",
       "      <td>14827</td>\n",
       "    </tr>\n",
       "    <tr>\n",
       "      <th>238</th>\n",
       "      <td>3c7m</td>\n",
       "      <td>B</td>\n",
       "      <td>5</td>\n",
       "      <td>26867</td>\n",
       "    </tr>\n",
       "    <tr>\n",
       "      <th>239</th>\n",
       "      <td>2q22</td>\n",
       "      <td>C</td>\n",
       "      <td>5</td>\n",
       "      <td>102879</td>\n",
       "    </tr>\n",
       "    <tr>\n",
       "      <th>240</th>\n",
       "      <td>2qb0</td>\n",
       "      <td>A</td>\n",
       "      <td>5</td>\n",
       "      <td>43081</td>\n",
       "    </tr>\n",
       "  </tbody>\n",
       "</table>\n",
       "<p>241 rows × 4 columns</p>\n",
       "</div>"
      ],
      "text/plain": [
       "    Free PDB Free Chains  classes  clusters\n",
       "0       4ake           A        0        82\n",
       "1       2p0m           A        0      2915\n",
       "2       3cze           A        0      4761\n",
       "3       2ex0           B        0      6623\n",
       "4       2gg4           A        0       188\n",
       "..       ...         ...      ...       ...\n",
       "236     2r60           A        5     43904\n",
       "237     1hf8           A        5     14827\n",
       "238     3c7m           B        5     26867\n",
       "239     2q22           C        5    102879\n",
       "240     2qb0           A        5     43081\n",
       "\n",
       "[241 rows x 4 columns]"
      ]
     },
     "execution_count": 9,
     "metadata": {},
     "output_type": "execute_result"
    }
   ],
   "source": [
    "clustered = []\n",
    "for line in important_df.values:\n",
    "    clustered.append([line[0],line[1],line[2], clusters.get_seqclust(pdb_code=line[0],chain_id=line[1])])\n",
    "clustered_df = pd.DataFrame(clustered, columns = ['Free PDB', 'Free Chains', 'classes', 'clusters'])\n",
    "clustered_df"
   ]
  },
  {
   "attachments": {},
   "cell_type": "markdown",
   "metadata": {},
   "source": [
    "Now that we have achieved this, it is important to check number of sequences per cluster."
   ]
  },
  {
   "cell_type": "code",
   "execution_count": 10,
   "metadata": {},
   "outputs": [
    {
     "data": {
      "text/plain": [
       "316     2\n",
       "370     2\n",
       "1860    2\n",
       "Name: clusters, dtype: int64"
      ]
     },
     "execution_count": 10,
     "metadata": {},
     "output_type": "execute_result"
    }
   ],
   "source": [
    "clustered_df.clusters.value_counts()[clustered_df.clusters.value_counts()>1]"
   ]
  },
  {
   "attachments": {},
   "cell_type": "markdown",
   "metadata": {},
   "source": [
    "We can see that there are only 3 clusters with more sequences than 1. Now let us check number of sequences per classes."
   ]
  },
  {
   "cell_type": "code",
   "execution_count": 11,
   "metadata": {},
   "outputs": [
    {
     "data": {
      "text/plain": [
       "5    95\n",
       "2    46\n",
       "4    42\n",
       "3    21\n",
       "1    19\n",
       "0    18\n",
       "Name: classes, dtype: int64"
      ]
     },
     "execution_count": 11,
     "metadata": {},
     "output_type": "execute_result"
    }
   ],
   "source": [
    "clustered_df.classes.value_counts()"
   ]
  },
  {
   "attachments": {},
   "cell_type": "markdown",
   "metadata": {},
   "source": [
    "Now we will apply brute force splitting to make 5 reasonable splits."
   ]
  },
  {
   "cell_type": "code",
   "execution_count": 12,
   "metadata": {},
   "outputs": [
    {
     "data": {
      "text/html": [
       "<div>\n",
       "<style scoped>\n",
       "    .dataframe tbody tr th:only-of-type {\n",
       "        vertical-align: middle;\n",
       "    }\n",
       "\n",
       "    .dataframe tbody tr th {\n",
       "        vertical-align: top;\n",
       "    }\n",
       "\n",
       "    .dataframe thead th {\n",
       "        text-align: right;\n",
       "    }\n",
       "</style>\n",
       "<table border=\"1\" class=\"dataframe\">\n",
       "  <thead>\n",
       "    <tr style=\"text-align: right;\">\n",
       "      <th></th>\n",
       "      <th>Free PDB</th>\n",
       "      <th>Free Chains</th>\n",
       "      <th>classes</th>\n",
       "      <th>clusters</th>\n",
       "    </tr>\n",
       "  </thead>\n",
       "  <tbody>\n",
       "    <tr>\n",
       "      <th>40</th>\n",
       "      <td>1pa1</td>\n",
       "      <td>A</td>\n",
       "      <td>4</td>\n",
       "      <td>316</td>\n",
       "    </tr>\n",
       "    <tr>\n",
       "      <th>50</th>\n",
       "      <td>2iyt</td>\n",
       "      <td>A</td>\n",
       "      <td>4</td>\n",
       "      <td>370</td>\n",
       "    </tr>\n",
       "    <tr>\n",
       "      <th>56</th>\n",
       "      <td>1zuh</td>\n",
       "      <td>A</td>\n",
       "      <td>4</td>\n",
       "      <td>370</td>\n",
       "    </tr>\n",
       "    <tr>\n",
       "      <th>83</th>\n",
       "      <td>2qct</td>\n",
       "      <td>B</td>\n",
       "      <td>2</td>\n",
       "      <td>316</td>\n",
       "    </tr>\n",
       "    <tr>\n",
       "      <th>134</th>\n",
       "      <td>2fyo</td>\n",
       "      <td>A</td>\n",
       "      <td>3</td>\n",
       "      <td>1860</td>\n",
       "    </tr>\n",
       "    <tr>\n",
       "      <th>170</th>\n",
       "      <td>1t7n</td>\n",
       "      <td>A</td>\n",
       "      <td>5</td>\n",
       "      <td>1860</td>\n",
       "    </tr>\n",
       "  </tbody>\n",
       "</table>\n",
       "</div>"
      ],
      "text/plain": [
       "    Free PDB Free Chains  classes  clusters\n",
       "40      1pa1           A        4       316\n",
       "50      2iyt           A        4       370\n",
       "56      1zuh           A        4       370\n",
       "83      2qct           B        2       316\n",
       "134     2fyo           A        3      1860\n",
       "170     1t7n           A        5      1860"
      ]
     },
     "execution_count": 12,
     "metadata": {},
     "output_type": "execute_result"
    }
   ],
   "source": [
    "test_split = [316, 370, 1860]\n",
    "clustered_df[clustered_df.clusters.isin(test_split)]"
   ]
  },
  {
   "cell_type": "code",
   "execution_count": 13,
   "metadata": {},
   "outputs": [],
   "source": [
    "import numpy as np\n",
    "class_count = [18, 19, 46, 21, 42, 95]\n",
    "splits_num = [[0, 0, 0, 0, 2, 0],[0, 0, 1, 0, 1, 0],[0, 0, 0, 1, 0, 1],[0, 0, 0, 0, 0, 0],[0, 0, 0, 0, 0, 0]]\n",
    "splits = [[370],[316], [1860], [], []]"
   ]
  },
  {
   "cell_type": "code",
   "execution_count": 14,
   "metadata": {},
   "outputs": [
    {
     "name": "stdout",
     "output_type": "stream",
     "text": [
      "[[370, 82, 2915, 4761, 33319, 3226, 7654, 140, 3473, 5053, 18795, 822, 39, 2025, 9601, 1155, 335, 21873, 55, 5248, 16648, 33020, 2675, 5435, 3900, 6935, 1, 18876, 8079, 19014, 43215, 33342, 11190, 2219, 60889, 14811, 32967, 155, 4107, 43440, 33071, 43439, 16548, 18798, 60225], [316, 82, 2915, 4761, 33319, 3226, 7654, 140, 3473, 5053, 18795, 822, 39, 2025, 9601, 335, 21873, 55, 5248, 16648, 33020, 2675, 5435, 3900, 6935, 21806, 1, 18876, 8079, 19014, 43215, 33342, 11190, 2219, 60889, 14811, 32967, 155, 4107, 43440, 33071, 43439, 16548, 18798, 60225], [1860, 82, 2915, 4761, 33319, 3226, 7654, 140, 3473, 5053, 18795, 822, 39, 2025, 9601, 1155, 335, 21873, 55, 16648, 33020, 2675, 5435, 3900, 6935, 21806, 61479, 1, 18876, 8079, 19014, 43215, 33342, 11190, 2219, 60889, 14811, 32967, 155, 4107, 43440, 33071, 43439, 16548, 18798], [82, 2915, 4761, 33319, 3226, 7654, 140, 3473, 5053, 18795, 822, 39, 2025, 9601, 1155, 335, 21873, 55, 5248, 16648, 33020, 2675, 5435, 3900, 6935, 21806, 61479, 1, 18876, 8079, 19014, 43215, 33342, 11190, 2219, 60889, 14811, 32967, 155, 4107, 43440, 33071, 43439, 16548, 18798, 60225], [82, 2915, 4761, 6623, 188, 381, 33319, 3226, 7654, 21985, 7665, 32707, 16543, 140, 3473, 5053, 18795, 822, 39, 2025, 9601, 1155, 3350, 335, 21873, 55, 5248, 26567, 16648, 33020, 2675, 5435, 3900, 6935, 21806, 61479, 5, 3916, 1, 18876, 8079, 19014, 43215, 33342, 11190, 2219, 60889, 14811, 32967, 155, 4107, 43440, 33071, 43439, 16548, 18798, 60225]]\n"
     ]
    }
   ],
   "source": [
    "df = clustered_df[~clustered_df.clusters.isin(test_split)]\n",
    "\n",
    "for i in range(6):\n",
    "    class_per_split = class_count[i]//5\n",
    "    pos = 0\n",
    "    for j in range(5):\n",
    "        if j!=4:\n",
    "            splits[j].extend(df[df.classes==i].clusters.iloc[pos: pos+class_per_split-splits_num[j][i]].tolist())\n",
    "            splits_num[j][i]=class_per_split\n",
    "            pos += class_per_split-splits_num[j][i]\n",
    "        else:\n",
    "            splits[j].extend(df[df.classes==i].clusters.iloc[pos:pos+class_count[i]-class_per_split*4-splits_num[j][i]].tolist())\n",
    "            splits_num[j][i]= class_count[i]-class_per_split*4\n",
    "print(splits)"
   ]
  },
  {
   "cell_type": "code",
   "execution_count": 15,
   "metadata": {},
   "outputs": [],
   "source": [
    "clustered_df[\"chain\"] = clustered_df[\"Free PDB\"] + \".\" + clustered_df[\"Free Chains\"]"
   ]
  },
  {
   "attachments": {},
   "cell_type": "markdown",
   "metadata": {},
   "source": [
    "And finally when we split the data, we need to store it for future use."
   ]
  },
  {
   "cell_type": "code",
   "execution_count": 18,
   "metadata": {},
   "outputs": [],
   "source": [
    "clustered_df[[\"chain\",\"classes\"]].to_csv(\"./data/domain_data/chain_functions.txt\",header=False,index=False)"
   ]
  },
  {
   "cell_type": "code",
   "execution_count": 21,
   "metadata": {},
   "outputs": [],
   "source": [
    "os.mkdir(\"./data/domain_data/splits\")\n",
    "\n",
    "for i in range(5):\n",
    "    clustered_df[clustered_df.clusters.isin(splits[i])][[\"chain\",\"classes\"]].to_csv(\"./data/domain_data/splits/split\"+ str(i) + \".txt\",header=False,index=False)"
   ]
  }
 ],
 "metadata": {
  "kernelspec": {
   "display_name": "Python 3",
   "language": "python",
   "name": "python3"
  },
  "language_info": {
   "codemirror_mode": {
    "name": "ipython",
    "version": 3
   },
   "file_extension": ".py",
   "mimetype": "text/x-python",
   "name": "python",
   "nbconvert_exporter": "python",
   "pygments_lexer": "ipython3",
   "version": "3.9.13"
  },
  "orig_nbformat": 4
 },
 "nbformat": 4,
 "nbformat_minor": 2
}
