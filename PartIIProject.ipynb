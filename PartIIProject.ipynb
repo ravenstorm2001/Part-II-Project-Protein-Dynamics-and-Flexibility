{
 "cells": [
  {
   "attachments": {},
   "cell_type": "markdown",
   "metadata": {},
   "source": [
    "# Part II Project Notebook"
   ]
  },
  {
   "attachments": {},
   "cell_type": "markdown",
   "metadata": {},
   "source": [
    "## NMA Exploration in ProDy"
   ]
  },
  {
   "cell_type": "code",
   "execution_count": 1,
   "metadata": {},
   "outputs": [
    {
     "name": "stdout",
     "output_type": "stream",
     "text": [
      "Requirement already satisfied: prody in c:\\users\\mihailo\\appdata\\local\\packages\\pythonsoftwarefoundation.python.3.9_qbz5n2kfra8p0\\localcache\\local-packages\\python39\\site-packages (2.3.1)Note: you may need to restart the kernel to use updated packages.\n",
      "\n",
      "Requirement already satisfied: pyparsing in c:\\users\\mihailo\\appdata\\local\\packages\\pythonsoftwarefoundation.python.3.9_qbz5n2kfra8p0\\localcache\\local-packages\\python39\\site-packages (from prody) (3.0.9)\n",
      "Requirement already satisfied: numpy>=1.10 in c:\\users\\mihailo\\appdata\\local\\packages\\pythonsoftwarefoundation.python.3.9_qbz5n2kfra8p0\\localcache\\local-packages\\python39\\site-packages (from prody) (1.23.4)\n",
      "Requirement already satisfied: scipy in c:\\users\\mihailo\\appdata\\local\\packages\\pythonsoftwarefoundation.python.3.9_qbz5n2kfra8p0\\localcache\\local-packages\\python39\\site-packages (from prody) (1.9.3)\n",
      "Requirement already satisfied: biopython in c:\\users\\mihailo\\appdata\\local\\packages\\pythonsoftwarefoundation.python.3.9_qbz5n2kfra8p0\\localcache\\local-packages\\python39\\site-packages (from prody) (1.80)\n",
      "Note: you may need to restart the kernel to use updated packages.\n"
     ]
    },
    {
     "name": "stderr",
     "output_type": "stream",
     "text": [
      "ERROR: Could not find a version that satisfies the requirement matplotlib.pylab (from versions: none)\n",
      "ERROR: No matching distribution found for matplotlib.pylab\n"
     ]
    }
   ],
   "source": [
    "%pip install prody\n",
    "%pip install matplotlib.pylab"
   ]
  },
  {
   "cell_type": "markdown",
   "metadata": {},
   "source": [
    "### Parse Structure"
   ]
  },
  {
   "cell_type": "code",
   "execution_count": 5,
   "metadata": {},
   "outputs": [
    {
     "name": "stderr",
     "output_type": "stream",
     "text": [
      "C:\\Users\\Mihailo\\AppData\\Local\\Packages\\PythonSoftwareFoundation.Python.3.9_qbz5n2kfra8p0\\LocalCache\\local-packages\\Python39\\site-packages\\Bio\\pairwise2.py:278: BiopythonDeprecationWarning: Bio.pairwise2 has been deprecated, and we intend to remove it in a future release of Biopython. As an alternative, please consider using Bio.Align.PairwiseAligner as a replacement, and contact the Biopython developers if you still need the Bio.pairwise2 module.\n",
      "  warnings.warn(\n"
     ]
    },
    {
     "data": {
      "text/plain": [
       "<contextlib.ExitStack at 0x2776ffe9190>"
      ]
     },
     "execution_count": 5,
     "metadata": {},
     "output_type": "execute_result"
    }
   ],
   "source": [
    "from prody import *\n",
    "\n",
    "from matplotlib.pylab import *\n",
    "\n",
    "ion()"
   ]
  },
  {
   "cell_type": "code",
   "execution_count": 6,
   "metadata": {},
   "outputs": [
    {
     "name": "stderr",
     "output_type": "stream",
     "text": [
      "@> PDB file is found in working directory (1aar.pdb).\n",
      "@> 1218 atoms and 1 coordinate set(s) were parsed in 0.04s.\n"
     ]
    },
    {
     "data": {
      "text/plain": [
       "<AtomGroup: 1aar (1218 atoms)>"
      ]
     },
     "execution_count": 6,
     "metadata": {},
     "output_type": "execute_result"
    }
   ],
   "source": [
    "ubi = parsePDB('1aar')\n",
    "\n",
    "ubi"
   ]
  },
  {
   "cell_type": "code",
   "execution_count": 7,
   "metadata": {},
   "outputs": [
    {
     "data": {
      "text/plain": [
       "<Selection: 'calpha and chai...and resnum < 71' from 1aar (70 atoms)>"
      ]
     },
     "execution_count": 7,
     "metadata": {},
     "output_type": "execute_result"
    }
   ],
   "source": [
    "calphas = ubi.select('calpha and chain A and resnum < 71')\n",
    "\n",
    "calphas"
   ]
  },
  {
   "cell_type": "code",
   "execution_count": 5,
   "metadata": {},
   "outputs": [],
   "source": [
    "gnm = GNM(name = 'Ubiquintin')"
   ]
  },
  {
   "cell_type": "markdown",
   "metadata": {},
   "source": [
    "### Build Kirchhoff matrix"
   ]
  },
  {
   "cell_type": "code",
   "execution_count": 6,
   "metadata": {},
   "outputs": [
    {
     "name": "stderr",
     "output_type": "stream",
     "text": [
      "@> Kirchhoff was built in 0.00s.\n"
     ]
    }
   ],
   "source": [
    "gnm.buildKirchhoff(coords=calphas, cutoff=10.0, gamma=1.0)"
   ]
  },
  {
   "cell_type": "code",
   "execution_count": 7,
   "metadata": {},
   "outputs": [
    {
     "data": {
      "text/plain": [
       "array([[11., -1., -1., ...,  0.,  0.,  0.],\n",
       "       [-1., 15., -1., ...,  0.,  0.,  0.],\n",
       "       [-1., -1., 20., ...,  0.,  0.,  0.],\n",
       "       ...,\n",
       "       [ 0.,  0.,  0., ..., 20., -1., -1.],\n",
       "       [ 0.,  0.,  0., ..., -1., 21., -1.],\n",
       "       [ 0.,  0.,  0., ..., -1., -1., 12.]])"
      ]
     },
     "execution_count": 7,
     "metadata": {},
     "output_type": "execute_result"
    }
   ],
   "source": [
    "gnm.getKirchhoff()"
   ]
  },
  {
   "cell_type": "markdown",
   "metadata": {},
   "source": [
    "### Parameters"
   ]
  },
  {
   "cell_type": "code",
   "execution_count": 8,
   "metadata": {},
   "outputs": [
    {
     "data": {
      "text/plain": [
       "10.0"
      ]
     },
     "execution_count": 8,
     "metadata": {},
     "output_type": "execute_result"
    }
   ],
   "source": [
    "gnm.getCutoff()"
   ]
  },
  {
   "cell_type": "code",
   "execution_count": 9,
   "metadata": {},
   "outputs": [
    {
     "data": {
      "text/plain": [
       "1.0"
      ]
     },
     "execution_count": 9,
     "metadata": {},
     "output_type": "execute_result"
    }
   ],
   "source": [
    "gnm.getGamma()"
   ]
  },
  {
   "cell_type": "markdown",
   "metadata": {},
   "source": [
    "### Calculate Normal Modes"
   ]
  },
  {
   "cell_type": "code",
   "execution_count": 10,
   "metadata": {},
   "outputs": [
    {
     "name": "stderr",
     "output_type": "stream",
     "text": [
      "@> 20 modes were calculated in 0.02s.\n"
     ]
    }
   ],
   "source": [
    "gnm.calcModes(20, zeros=False)"
   ]
  },
  {
   "cell_type": "markdown",
   "metadata": {},
   "source": [
    "### Normal Mode Data"
   ]
  },
  {
   "cell_type": "code",
   "execution_count": 11,
   "metadata": {},
   "outputs": [
    {
     "data": {
      "text/plain": [
       "array([ 2.502,  2.812,  4.366,  5.05 ,  7.184,  7.65 ,  7.877,  9.08 ,\n",
       "        9.713, 10.132, 10.502, 10.644, 10.888, 11.157, 11.285, 11.632,\n",
       "       11.78 , 11.936, 12.006, 12.218])"
      ]
     },
     "execution_count": 11,
     "metadata": {},
     "output_type": "execute_result"
    }
   ],
   "source": [
    "gnm.getEigvals().round(3)"
   ]
  },
  {
   "cell_type": "code",
   "execution_count": 12,
   "metadata": {},
   "outputs": [
    {
     "data": {
      "text/plain": [
       "array([[-0.064, -0.131, -0.245, ..., -0.256,  0.538, -0.   ],\n",
       "       [-0.073, -0.085, -0.19 , ...,  0.006, -0.069,  0.032],\n",
       "       [-0.076, -0.043, -0.135, ...,  0.017, -0.047,  0.018],\n",
       "       ...,\n",
       "       [-0.092,  0.064,  0.105, ...,  0.032, -0.042,  0.006],\n",
       "       [-0.07 ,  0.099,  0.054, ...,  0.031,  0.024, -0.014],\n",
       "       [-0.081,  0.135,  0.124, ...,  0.013, -0.04 , -0.018]])"
      ]
     },
     "execution_count": 12,
     "metadata": {},
     "output_type": "execute_result"
    }
   ],
   "source": [
    "gnm.getEigvecs().round(3)"
   ]
  },
  {
   "cell_type": "markdown",
   "metadata": {},
   "source": [
    "### NMA on CPU using GNM Function"
   ]
  },
  {
   "cell_type": "code",
   "execution_count": 13,
   "metadata": {},
   "outputs": [],
   "source": [
    "def calculate_modes_gnm_cpu(protein_name, cutoff = 7.0, num_modes=20, gamma = 1):\n",
    "    \"\"\"\n",
    "    Function to calculate normal modes on CPU\n",
    "\n",
    "    Arguments:  \n",
    "        protein_name : string - PDB id of a protein\n",
    "        cutoff : double - cutoff distance for GNM algorithm\n",
    "        num_modes : integer - number of lowest non-trivial modes calculated\n",
    "        gamma : double - constant for potential energy calculation\n",
    "    Outputs:\n",
    "        (eigenvals, eigenvecs) : (array(double), array(array(double))) - calculated modes and eigenvalues \n",
    "    \"\"\"\n",
    "    protein = parsePDB(protein_name)\n",
    "    calphas = protein.select('calpha')\n",
    "\n",
    "    gnm = GNM()\n",
    "    gnm.buildKirchhoff(coords=calphas, cutoff=cutoff, gamma=gamma)\n",
    "\n",
    "    gnm.calcModes(num_modes, zeros=False)\n",
    "    return (gnm.getEigvals(), gnm.getEigvecs())"
   ]
  },
  {
   "cell_type": "code",
   "execution_count": 14,
   "metadata": {},
   "outputs": [
    {
     "name": "stderr",
     "output_type": "stream",
     "text": [
      "@> PDB file is found in working directory (1aar.pdb.gz).\n",
      "@> 1218 atoms and 1 coordinate set(s) were parsed in 0.03s.\n",
      "@> Kirchhoff was built in 0.01s.\n",
      "@> 20 modes were calculated in 0.04s.\n"
     ]
    },
    {
     "data": {
      "text/plain": [
       "(array([0.14151754, 0.38104426, 0.46836206, 0.49593759, 0.58382043,\n",
       "        0.74431723, 0.99646697, 1.28180999, 1.56646564, 1.67868394,\n",
       "        1.95557404, 2.0090235 , 2.03833678, 2.22876991, 2.36152138,\n",
       "        2.5340486 , 2.7414319 , 2.82949063, 3.48699585, 3.54410935]),\n",
       " array([[ 1.03374384e-01, -9.82880493e-03,  9.08562012e-02, ...,\n",
       "          8.70083494e-03, -2.02469425e-02,  6.72316938e-02],\n",
       "        [ 9.30774820e-02, -3.26144808e-03,  1.15694755e-01, ...,\n",
       "         -5.83068367e-02,  3.15810145e-02, -7.94458795e-02],\n",
       "        [ 8.71730373e-02, -5.12303779e-04,  1.16869498e-01, ...,\n",
       "         -6.31150849e-02,  1.62240898e-02, -4.83183478e-02],\n",
       "        ...,\n",
       "        [-3.87764509e-02,  2.74922729e-01, -2.03643722e-02, ...,\n",
       "         -6.47737074e-02, -1.81914991e-03,  9.33410435e-03],\n",
       "        [-4.38281298e-02,  4.51078770e-01, -4.61927640e-02, ...,\n",
       "         -6.18272501e-02, -2.15825057e-02,  5.86602243e-02],\n",
       "        [-5.10530291e-02,  7.28773875e-01, -8.68876360e-02, ...,\n",
       "          3.37947892e-02,  8.67814302e-03, -2.30572732e-02]]))"
      ]
     },
     "execution_count": 14,
     "metadata": {},
     "output_type": "execute_result"
    }
   ],
   "source": [
    "calculate_modes_gnm_cpu(protein_name = '1aar', cutoff = 7.0, num_modes = 20, gamma = 1.0)"
   ]
  },
  {
   "cell_type": "markdown",
   "metadata": {},
   "source": [
    "### NMA on CPU using ANM Function"
   ]
  },
  {
   "cell_type": "code",
   "execution_count": 15,
   "metadata": {},
   "outputs": [],
   "source": [
    "def calculate_modes_anm_cpu(protein_name, cutoff = 7.0, num_modes=20, gamma = 1):\n",
    "    \"\"\"\n",
    "    Function to calculate normal modes on CPU\n",
    "\n",
    "    Arguments:  \n",
    "        protein_name : string - PDB id of a protein\n",
    "        cutoff : double - cutoff distance for GNM algorithm\n",
    "        num_modes : integer - number of lowest non-trivial modes calculated\n",
    "        gamma : double - constant for potential energy calculation\n",
    "    Outputs:\n",
    "        (eigenvals, eigenvecs) : (array(double), array(array(double))) - calculated modes and eigenvalues \n",
    "    \"\"\"\n",
    "    protein = parsePDB(protein_name)\n",
    "    calphas = protein.select('calpha')\n",
    "\n",
    "    anm = ANM()\n",
    "    anm.buildHessian(coords=calphas, cutoff=cutoff, gamma=gamma)\n",
    "\n",
    "    anm.calcModes(num_modes, zeros=False)\n",
    "    return (anm.getEigvals(), anm.getEigvecs())"
   ]
  },
  {
   "cell_type": "code",
   "execution_count": 16,
   "metadata": {},
   "outputs": [
    {
     "name": "stderr",
     "output_type": "stream",
     "text": [
      "@> PDB file is found in working directory (1aar.pdb.gz).\n",
      "@> 1218 atoms and 1 coordinate set(s) were parsed in 0.03s.\n",
      "@> Hessian was built in 0.02s.\n",
      "@> WARNING More than 6 (10) zero eigenvalues were calculated.\n",
      "@> Solving for additional eigenvalues...\n",
      "@> 20 modes were calculated in 0.27s.\n"
     ]
    },
    {
     "data": {
      "text/plain": [
       "(array([0.0017942 , 0.00300006, 0.00326869, 0.00360493, 0.00454109,\n",
       "        0.00492944, 0.00664014, 0.0084666 , 0.01088321, 0.01172248,\n",
       "        0.01297695, 0.01378273, 0.01509764, 0.01721543, 0.02058993,\n",
       "        0.02542463, 0.02643672, 0.02694707, 0.02960575, 0.03364039]),\n",
       " array([[-6.54433343e-02, -9.30086589e-02, -2.51089450e-02, ...,\n",
       "         -5.42175871e-02,  6.05319190e-02, -4.20373223e-02],\n",
       "        [-4.07659821e-02, -5.58569414e-02, -6.05755436e-02, ...,\n",
       "         -2.92361728e-02,  2.20959283e-02,  3.91366217e-02],\n",
       "        [ 1.19016883e-02,  6.49503151e-03,  4.29543346e-02, ...,\n",
       "         -5.15058144e-02, -2.73614983e-02,  1.43220817e-02],\n",
       "        ...,\n",
       "        [ 5.95375806e-03,  4.61585294e-02,  2.52558110e-02, ...,\n",
       "          3.54890740e-02, -4.68533288e-02,  3.35423351e-02],\n",
       "        [ 4.40669378e-04,  3.41643887e-03,  1.86931723e-03, ...,\n",
       "          2.62673559e-03, -3.46786467e-03,  2.48264706e-03],\n",
       "        [ 9.60029717e-05,  7.44295610e-04,  4.07244111e-04, ...,\n",
       "          5.72253110e-04, -7.55499089e-04,  5.40862394e-04]]))"
      ]
     },
     "execution_count": 16,
     "metadata": {},
     "output_type": "execute_result"
    }
   ],
   "source": [
    "calculate_modes_anm_cpu(protein_name = '1aar', cutoff = 7.0, num_modes = 20, gamma = 1.0)"
   ]
  },
  {
   "attachments": {},
   "cell_type": "markdown",
   "metadata": {},
   "source": [
    "## NMA Exploration in Springcraft"
   ]
  },
  {
   "cell_type": "code",
   "execution_count": 17,
   "metadata": {},
   "outputs": [
    {
     "name": "stdout",
     "output_type": "stream",
     "text": [
      "Collecting springcraftNote: you may need to restart the kernel to use updated packages.\n",
      "\n",
      "  Downloading springcraft-0.3.0-py3-none-any.whl (46 kB)\n",
      "     ---------------------------------------- 46.9/46.9 kB 1.1 MB/s eta 0:00:00\n",
      "Requirement already satisfied: numpy<2.0,>=1.15 in c:\\users\\mihailo\\appdata\\local\\packages\\pythonsoftwarefoundation.python.3.9_qbz5n2kfra8p0\\localcache\\local-packages\\python39\\site-packages (from springcraft) (1.23.4)\n",
      "Collecting biotite>=0.32\n",
      "  Downloading biotite-0.35.0-cp39-cp39-win_amd64.whl (30.9 MB)\n",
      "     ---------------------------------------- 30.9/30.9 MB 3.2 MB/s eta 0:00:00\n",
      "Collecting networkx>=2.0\n",
      "  Downloading networkx-2.8.8-py3-none-any.whl (2.0 MB)\n",
      "     ---------------------------------------- 2.0/2.0 MB 42.9 MB/s eta 0:00:00\n",
      "Requirement already satisfied: requests>=2.12 in c:\\users\\mihailo\\appdata\\local\\packages\\pythonsoftwarefoundation.python.3.9_qbz5n2kfra8p0\\localcache\\local-packages\\python39\\site-packages (from biotite>=0.32->springcraft) (2.28.1)\n",
      "Collecting msgpack>=0.5.6\n",
      "  Downloading msgpack-1.0.4-cp39-cp39-win_amd64.whl (62 kB)\n",
      "     ---------------------------------------- 62.5/62.5 kB 3.3 MB/s eta 0:00:00\n",
      "Requirement already satisfied: idna<4,>=2.5 in c:\\users\\mihailo\\appdata\\local\\packages\\pythonsoftwarefoundation.python.3.9_qbz5n2kfra8p0\\localcache\\local-packages\\python39\\site-packages (from requests>=2.12->biotite>=0.32->springcraft) (3.4)\n",
      "Requirement already satisfied: certifi>=2017.4.17 in c:\\users\\mihailo\\appdata\\local\\packages\\pythonsoftwarefoundation.python.3.9_qbz5n2kfra8p0\\localcache\\local-packages\\python39\\site-packages (from requests>=2.12->biotite>=0.32->springcraft) (2022.9.24)\n",
      "Requirement already satisfied: charset-normalizer<3,>=2 in c:\\users\\mihailo\\appdata\\local\\packages\\pythonsoftwarefoundation.python.3.9_qbz5n2kfra8p0\\localcache\\local-packages\\python39\\site-packages (from requests>=2.12->biotite>=0.32->springcraft) (2.1.1)\n",
      "Requirement already satisfied: urllib3<1.27,>=1.21.1 in c:\\users\\mihailo\\appdata\\local\\packages\\pythonsoftwarefoundation.python.3.9_qbz5n2kfra8p0\\localcache\\local-packages\\python39\\site-packages (from requests>=2.12->biotite>=0.32->springcraft) (1.26.12)\n",
      "Installing collected packages: msgpack, networkx, biotite, springcraft\n",
      "Successfully installed biotite-0.35.0 msgpack-1.0.4 networkx-2.8.8 springcraft-0.3.0\n",
      "Note: you may need to restart the kernel to use updated packages.\n"
     ]
    },
    {
     "name": "stderr",
     "output_type": "stream",
     "text": [
      "ERROR: Could not find a version that satisfies the requirement matplotlib.pylab (from versions: none)\n",
      "ERROR: No matching distribution found for matplotlib.pylab\n"
     ]
    }
   ],
   "source": [
    "%pip install springcraft\n",
    "%pip install matplotlib.pylab"
   ]
  },
  {
   "attachments": {},
   "cell_type": "markdown",
   "metadata": {},
   "source": [
    "### Usage"
   ]
  },
  {
   "cell_type": "code",
   "execution_count": 5,
   "metadata": {},
   "outputs": [],
   "source": [
    "import biotite.structure.io as strucio\n",
    "import springcraft\n",
    "\n",
    "# All pairs of atoms within a cutoff distance obtain the same force constant\n",
    "ff = springcraft.InvariantForceField(cutoff_distance=13.0)\n",
    "\n",
    "# The force constant is inversely proportional to the squared distance\n",
    "ff = springcraft.ParameterFreeForceField()\n",
    "\n",
    "# The force constant is read from tabulated values\n",
    "# based on residue types and distance\n",
    "# For the residue type the underlying CA-trace is required\n",
    "atoms = strucio.load_structure(\"1aar.pdb\")\n",
    "atoms = atoms[(atoms.atom_name == \"CA\") & (atoms.element == \"C\")]\n",
    "ff = springcraft.TabulatedForceField.sd_enm(atoms)"
   ]
  },
  {
   "cell_type": "code",
   "execution_count": 6,
   "metadata": {},
   "outputs": [
    {
     "data": {
      "text/plain": [
       "array([\n",
       "\tAtom(np.array([14.6  , 29.031, 15.11 ], dtype=float32), chain_id=\"A\", res_id=1, ins_code=\"\", res_name=\"MET\", hetero=False, atom_name=\"CA\", element=\"C\"),\n",
       "\tAtom(np.array([15.552, 25.806, 16.852], dtype=float32), chain_id=\"A\", res_id=2, ins_code=\"\", res_name=\"GLN\", hetero=False, atom_name=\"CA\", element=\"C\"),\n",
       "\tAtom(np.array([15.593, 22.437, 15.13 ], dtype=float32), chain_id=\"A\", res_id=3, ins_code=\"\", res_name=\"ILE\", hetero=False, atom_name=\"CA\", element=\"C\"),\n",
       "\tAtom(np.array([16.773, 19.057, 16.52 ], dtype=float32), chain_id=\"A\", res_id=4, ins_code=\"\", res_name=\"PHE\", hetero=False, atom_name=\"CA\", element=\"C\"),\n",
       "\tAtom(np.array([18.917, 16.876, 14.225], dtype=float32), chain_id=\"A\", res_id=5, ins_code=\"\", res_name=\"VAL\", hetero=False, atom_name=\"CA\", element=\"C\"),\n",
       "\tAtom(np.array([18.713, 13.283, 15.533], dtype=float32), chain_id=\"A\", res_id=6, ins_code=\"\", res_name=\"LYS\", hetero=False, atom_name=\"CA\", element=\"C\"),\n",
       "\tAtom(np.array([21.128, 10.538, 14.58 ], dtype=float32), chain_id=\"A\", res_id=7, ins_code=\"\", res_name=\"THR\", hetero=False, atom_name=\"CA\", element=\"C\"),\n",
       "\tAtom(np.array([19.805,  6.963, 14.139], dtype=float32), chain_id=\"A\", res_id=8, ins_code=\"\", res_name=\"LEU\", hetero=False, atom_name=\"CA\", element=\"C\"),\n",
       "\tAtom(np.array([22.55 ,  5.909, 16.537], dtype=float32), chain_id=\"A\", res_id=9, ins_code=\"\", res_name=\"THR\", hetero=False, atom_name=\"CA\", element=\"C\"),\n",
       "\tAtom(np.array([20.976,  7.985, 19.328], dtype=float32), chain_id=\"A\", res_id=10, ins_code=\"\", res_name=\"GLY\", hetero=False, atom_name=\"CA\", element=\"C\"),\n",
       "\tAtom(np.array([22.389, 11.501, 19.658], dtype=float32), chain_id=\"A\", res_id=11, ins_code=\"\", res_name=\"LYS\", hetero=False, atom_name=\"CA\", element=\"C\"),\n",
       "\tAtom(np.array([20.437, 14.747, 19.256], dtype=float32), chain_id=\"A\", res_id=12, ins_code=\"\", res_name=\"THR\", hetero=False, atom_name=\"CA\", element=\"C\"),\n",
       "\tAtom(np.array([22.111, 17.819, 17.718], dtype=float32), chain_id=\"A\", res_id=13, ins_code=\"\", res_name=\"ILE\", hetero=False, atom_name=\"CA\", element=\"C\"),\n",
       "\tAtom(np.array([20.426, 21.152, 18.528], dtype=float32), chain_id=\"A\", res_id=14, ins_code=\"\", res_name=\"THR\", hetero=False, atom_name=\"CA\", element=\"C\"),\n",
       "\tAtom(np.array([20.958, 23.956, 15.991], dtype=float32), chain_id=\"A\", res_id=15, ins_code=\"\", res_name=\"LEU\", hetero=False, atom_name=\"CA\", element=\"C\"),\n",
       "\tAtom(np.array([19.852, 27.541, 15.526], dtype=float32), chain_id=\"A\", res_id=16, ins_code=\"\", res_name=\"GLU\", hetero=False, atom_name=\"CA\", element=\"C\"),\n",
       "\tAtom(np.array([18.855, 27.991, 11.889], dtype=float32), chain_id=\"A\", res_id=17, ins_code=\"\", res_name=\"VAL\", hetero=False, atom_name=\"CA\", element=\"C\"),\n",
       "\tAtom(np.array([17.074, 30.585,  9.74 ], dtype=float32), chain_id=\"A\", res_id=18, ins_code=\"\", res_name=\"GLU\", hetero=False, atom_name=\"CA\", element=\"C\"),\n",
       "\tAtom(np.array([13.72 , 29.514,  8.192], dtype=float32), chain_id=\"A\", res_id=19, ins_code=\"\", res_name=\"PRO\", hetero=False, atom_name=\"CA\", element=\"C\"),\n",
       "\tAtom(np.array([15.116, 30.038,  4.631], dtype=float32), chain_id=\"A\", res_id=20, ins_code=\"\", res_name=\"SER\", hetero=False, atom_name=\"CA\", element=\"C\"),\n",
       "\tAtom(np.array([18.472, 28.214,  5.074], dtype=float32), chain_id=\"A\", res_id=21, ins_code=\"\", res_name=\"ASP\", hetero=False, atom_name=\"CA\", element=\"C\"),\n",
       "\tAtom(np.array([19.14 , 25.71 ,  2.286], dtype=float32), chain_id=\"A\", res_id=22, ins_code=\"\", res_name=\"THR\", hetero=False, atom_name=\"CA\", element=\"C\"),\n",
       "\tAtom(np.array([19.625, 22.082,  3.353], dtype=float32), chain_id=\"A\", res_id=23, ins_code=\"\", res_name=\"ILE\", hetero=False, atom_name=\"CA\", element=\"C\"),\n",
       "\tAtom(np.array([23.275, 22.436,  2.292], dtype=float32), chain_id=\"A\", res_id=24, ins_code=\"\", res_name=\"GLU\", hetero=False, atom_name=\"CA\", element=\"C\"),\n",
       "\tAtom(np.array([23.533, 25.178,  4.919], dtype=float32), chain_id=\"A\", res_id=25, ins_code=\"\", res_name=\"ASN\", hetero=False, atom_name=\"CA\", element=\"C\"),\n",
       "\tAtom(np.array([22.243, 22.951,  7.74 ], dtype=float32), chain_id=\"A\", res_id=26, ins_code=\"\", res_name=\"VAL\", hetero=False, atom_name=\"CA\", element=\"C\"),\n",
       "\tAtom(np.array([24.874, 20.46 ,  6.668], dtype=float32), chain_id=\"A\", res_id=27, ins_code=\"\", res_name=\"LYS\", hetero=False, atom_name=\"CA\", element=\"C\"),\n",
       "\tAtom(np.array([27.552, 23.176,  6.906], dtype=float32), chain_id=\"A\", res_id=28, ins_code=\"\", res_name=\"ALA\", hetero=False, atom_name=\"CA\", element=\"C\"),\n",
       "\tAtom(np.array([26.159, 24.018, 10.357], dtype=float32), chain_id=\"A\", res_id=29, ins_code=\"\", res_name=\"LYS\", hetero=False, atom_name=\"CA\", element=\"C\"),\n",
       "\tAtom(np.array([26.433, 20.407, 11.459], dtype=float32), chain_id=\"A\", res_id=30, ins_code=\"\", res_name=\"ILE\", hetero=False, atom_name=\"CA\", element=\"C\"),\n",
       "\tAtom(np.array([30.012, 20.312, 10.208], dtype=float32), chain_id=\"A\", res_id=31, ins_code=\"\", res_name=\"GLN\", hetero=False, atom_name=\"CA\", element=\"C\"),\n",
       "\tAtom(np.array([30.687, 23.544, 12.103], dtype=float32), chain_id=\"A\", res_id=32, ins_code=\"\", res_name=\"ASP\", hetero=False, atom_name=\"CA\", element=\"C\"),\n",
       "\tAtom(np.array([29.509, 21.845, 15.266], dtype=float32), chain_id=\"A\", res_id=33, ins_code=\"\", res_name=\"LYS\", hetero=False, atom_name=\"CA\", element=\"C\"),\n",
       "\tAtom(np.array([30.282, 18.138, 14.9  ], dtype=float32), chain_id=\"A\", res_id=34, ins_code=\"\", res_name=\"GLU\", hetero=False, atom_name=\"CA\", element=\"C\"),\n",
       "\tAtom(np.array([32.916, 18.039, 12.16 ], dtype=float32), chain_id=\"A\", res_id=35, ins_code=\"\", res_name=\"GLY\", hetero=False, atom_name=\"CA\", element=\"C\"),\n",
       "\tAtom(np.array([30.919, 15.627,  9.912], dtype=float32), chain_id=\"A\", res_id=36, ins_code=\"\", res_name=\"ILE\", hetero=False, atom_name=\"CA\", element=\"C\"),\n",
       "\tAtom(np.array([31.688, 16.559,  6.277], dtype=float32), chain_id=\"A\", res_id=37, ins_code=\"\", res_name=\"PRO\", hetero=False, atom_name=\"CA\", element=\"C\"),\n",
       "\tAtom(np.array([28.604, 17.759,  4.377], dtype=float32), chain_id=\"A\", res_id=38, ins_code=\"\", res_name=\"PRO\", hetero=False, atom_name=\"CA\", element=\"C\"),\n",
       "\tAtom(np.array([29.292, 15.168,  1.7  ], dtype=float32), chain_id=\"A\", res_id=39, ins_code=\"\", res_name=\"ASP\", hetero=False, atom_name=\"CA\", element=\"C\"),\n",
       "\tAtom(np.array([28.847, 12.441,  4.286], dtype=float32), chain_id=\"A\", res_id=40, ins_code=\"\", res_name=\"GLN\", hetero=False, atom_name=\"CA\", element=\"C\"),\n",
       "\tAtom(np.array([25.407, 13.66 ,  5.374], dtype=float32), chain_id=\"A\", res_id=41, ins_code=\"\", res_name=\"GLN\", hetero=False, atom_name=\"CA\", element=\"C\"),\n",
       "\tAtom(np.array([21.895, 12.754,  4.355], dtype=float32), chain_id=\"A\", res_id=42, ins_code=\"\", res_name=\"ARG\", hetero=False, atom_name=\"CA\", element=\"C\"),\n",
       "\tAtom(np.array([19.154, 14.751,  6.135], dtype=float32), chain_id=\"A\", res_id=43, ins_code=\"\", res_name=\"LEU\", hetero=False, atom_name=\"CA\", element=\"C\"),\n",
       "\tAtom(np.array([15.639, 13.391,  6.442], dtype=float32), chain_id=\"A\", res_id=44, ins_code=\"\", res_name=\"ILE\", hetero=False, atom_name=\"CA\", element=\"C\"),\n",
       "\tAtom(np.array([12.298, 14.89 ,  7.458], dtype=float32), chain_id=\"A\", res_id=45, ins_code=\"\", res_name=\"PHE\", hetero=False, atom_name=\"CA\", element=\"C\"),\n",
       "\tAtom(np.array([ 9.038, 12.935,  7.692], dtype=float32), chain_id=\"A\", res_id=46, ins_code=\"\", res_name=\"ALA\", hetero=False, atom_name=\"CA\", element=\"C\"),\n",
       "\tAtom(np.array([10.672,  9.717,  6.489], dtype=float32), chain_id=\"A\", res_id=47, ins_code=\"\", res_name=\"GLY\", hetero=False, atom_name=\"CA\", element=\"C\"),\n",
       "\tAtom(np.array([12.025, 11.463,  3.384], dtype=float32), chain_id=\"A\", res_id=48, ins_code=\"\", res_name=\"LYS\", hetero=False, atom_name=\"CA\", element=\"C\"),\n",
       "\tAtom(np.array([15.486, 12.339,  2.186], dtype=float32), chain_id=\"A\", res_id=49, ins_code=\"\", res_name=\"GLN\", hetero=False, atom_name=\"CA\", element=\"C\"),\n",
       "\tAtom(np.array([15.975, 16.134,  1.73 ], dtype=float32), chain_id=\"A\", res_id=50, ins_code=\"\", res_name=\"LEU\", hetero=False, atom_name=\"CA\", element=\"C\"),\n",
       "\tAtom(np.array([17.665, 17.91 , -1.183], dtype=float32), chain_id=\"A\", res_id=51, ins_code=\"\", res_name=\"GLU\", hetero=False, atom_name=\"CA\", element=\"C\"),\n",
       "\tAtom(np.array([20.599, 20.3  , -1.008], dtype=float32), chain_id=\"A\", res_id=52, ins_code=\"\", res_name=\"ASP\", hetero=False, atom_name=\"CA\", element=\"C\"),\n",
       "\tAtom(np.array([19.328, 23.277, -2.898], dtype=float32), chain_id=\"A\", res_id=53, ins_code=\"\", res_name=\"GLY\", hetero=False, atom_name=\"CA\", element=\"C\"),\n",
       "\tAtom(np.array([15.924, 23.524, -1.19 ], dtype=float32), chain_id=\"A\", res_id=54, ins_code=\"\", res_name=\"ARG\", hetero=False, atom_name=\"CA\", element=\"C\"),\n",
       "\tAtom(np.array([15.111, 25.476,  1.958], dtype=float32), chain_id=\"A\", res_id=55, ins_code=\"\", res_name=\"THR\", hetero=False, atom_name=\"CA\", element=\"C\"),\n",
       "\tAtom(np.array([13.737, 24.403,  5.302], dtype=float32), chain_id=\"A\", res_id=56, ins_code=\"\", res_name=\"LEU\", hetero=False, atom_name=\"CA\", element=\"C\"),\n",
       "\tAtom(np.array([10.603, 26.474,  4.449], dtype=float32), chain_id=\"A\", res_id=57, ins_code=\"\", res_name=\"SER\", hetero=False, atom_name=\"CA\", element=\"C\"),\n",
       "\tAtom(np.array([10.078, 24.555,  1.174], dtype=float32), chain_id=\"A\", res_id=58, ins_code=\"\", res_name=\"ASP\", hetero=False, atom_name=\"CA\", element=\"C\"),\n",
       "\tAtom(np.array([ 9.737, 21.384,  3.224], dtype=float32), chain_id=\"A\", res_id=59, ins_code=\"\", res_name=\"TYR\", hetero=False, atom_name=\"CA\", element=\"C\"),\n",
       "\tAtom(np.array([ 7.445, 22.964,  5.843], dtype=float32), chain_id=\"A\", res_id=60, ins_code=\"\", res_name=\"ASN\", hetero=False, atom_name=\"CA\", element=\"C\"),\n",
       "\tAtom(np.array([10.115, 22.402,  8.544], dtype=float32), chain_id=\"A\", res_id=61, ins_code=\"\", res_name=\"ILE\", hetero=False, atom_name=\"CA\", element=\"C\"),\n",
       "\tAtom(np.array([ 9.113, 24.834, 11.35 ], dtype=float32), chain_id=\"A\", res_id=62, ins_code=\"\", res_name=\"GLN\", hetero=False, atom_name=\"CA\", element=\"C\"),\n",
       "\tAtom(np.array([10.268, 25.743, 14.861], dtype=float32), chain_id=\"A\", res_id=63, ins_code=\"\", res_name=\"LYS\", hetero=False, atom_name=\"CA\", element=\"C\"),\n",
       "\tAtom(np.array([11.098, 22.748, 17.029], dtype=float32), chain_id=\"A\", res_id=64, ins_code=\"\", res_name=\"GLU\", hetero=False, atom_name=\"CA\", element=\"C\"),\n",
       "\tAtom(np.array([11.1  , 20.248, 14.118], dtype=float32), chain_id=\"A\", res_id=65, ins_code=\"\", res_name=\"SER\", hetero=False, atom_name=\"CA\", element=\"C\"),\n",
       "\tAtom(np.array([13.181, 17.085, 14.233], dtype=float32), chain_id=\"A\", res_id=66, ins_code=\"\", res_name=\"THR\", hetero=False, atom_name=\"CA\", element=\"C\"),\n",
       "\tAtom(np.array([15.363, 16.078, 11.289], dtype=float32), chain_id=\"A\", res_id=67, ins_code=\"\", res_name=\"LEU\", hetero=False, atom_name=\"CA\", element=\"C\"),\n",
       "\tAtom(np.array([17.306, 12.818, 11.11 ], dtype=float32), chain_id=\"A\", res_id=68, ins_code=\"\", res_name=\"HIS\", hetero=False, atom_name=\"CA\", element=\"C\"),\n",
       "\tAtom(np.array([20.916, 12.379, 10.044], dtype=float32), chain_id=\"A\", res_id=69, ins_code=\"\", res_name=\"LEU\", hetero=False, atom_name=\"CA\", element=\"C\"),\n",
       "\tAtom(np.array([22.205,  9.274,  8.226], dtype=float32), chain_id=\"A\", res_id=70, ins_code=\"\", res_name=\"VAL\", hetero=False, atom_name=\"CA\", element=\"C\"),\n",
       "\tAtom(np.array([25.809,  8.907,  7.031], dtype=float32), chain_id=\"A\", res_id=71, ins_code=\"\", res_name=\"LEU\", hetero=False, atom_name=\"CA\", element=\"C\"),\n",
       "\tAtom(np.array([26.793,  8.069,  3.458], dtype=float32), chain_id=\"A\", res_id=72, ins_code=\"\", res_name=\"ARG\", hetero=False, atom_name=\"CA\", element=\"C\"),\n",
       "\tAtom(np.array([30.315,  6.637,  3.989], dtype=float32), chain_id=\"A\", res_id=73, ins_code=\"\", res_name=\"LEU\", hetero=False, atom_name=\"CA\", element=\"C\"),\n",
       "\tAtom(np.array([32.756,  5.149,  1.46 ], dtype=float32), chain_id=\"A\", res_id=74, ins_code=\"\", res_name=\"ARG\", hetero=False, atom_name=\"CA\", element=\"C\"),\n",
       "\tAtom(np.array([32.313,  1.413,  0.713], dtype=float32), chain_id=\"A\", res_id=75, ins_code=\"\", res_name=\"GLY\", hetero=False, atom_name=\"CA\", element=\"C\"),\n",
       "\tAtom(np.array([28.902,  0.785,  2.344], dtype=float32), chain_id=\"A\", res_id=76, ins_code=\"\", res_name=\"GLY\", hetero=False, atom_name=\"CA\", element=\"C\"),\n",
       "\tAtom(np.array([ 16.726, -15.421,   8.722], dtype=float32), chain_id=\"B\", res_id=1, ins_code=\"\", res_name=\"MET\", hetero=False, atom_name=\"CA\", element=\"C\"),\n",
       "\tAtom(np.array([ 14.426, -12.786,  10.159], dtype=float32), chain_id=\"B\", res_id=2, ins_code=\"\", res_name=\"GLN\", hetero=False, atom_name=\"CA\", element=\"C\"),\n",
       "\tAtom(np.array([15.288, -9.089,  9.993], dtype=float32), chain_id=\"B\", res_id=3, ins_code=\"\", res_name=\"ILE\", hetero=False, atom_name=\"CA\", element=\"C\"),\n",
       "\tAtom(np.array([13.077, -5.991, 10.567], dtype=float32), chain_id=\"B\", res_id=4, ins_code=\"\", res_name=\"PHE\", hetero=False, atom_name=\"CA\", element=\"C\"),\n",
       "\tAtom(np.array([12.896, -2.903,  8.405], dtype=float32), chain_id=\"B\", res_id=5, ins_code=\"\", res_name=\"VAL\", hetero=False, atom_name=\"CA\", element=\"C\"),\n",
       "\tAtom(np.array([11.68 ,  0.075, 10.438], dtype=float32), chain_id=\"B\", res_id=6, ins_code=\"\", res_name=\"LYS\", hetero=False, atom_name=\"CA\", element=\"C\"),\n",
       "\tAtom(np.array([10.559,  3.245,  8.702], dtype=float32), chain_id=\"B\", res_id=7, ins_code=\"\", res_name=\"THR\", hetero=False, atom_name=\"CA\", element=\"C\"),\n",
       "\tAtom(np.array([11.45 ,  6.594, 10.191], dtype=float32), chain_id=\"B\", res_id=8, ins_code=\"\", res_name=\"LEU\", hetero=False, atom_name=\"CA\", element=\"C\"),\n",
       "\tAtom(np.array([ 7.637,  7.037, 10.458], dtype=float32), chain_id=\"B\", res_id=9, ins_code=\"\", res_name=\"THR\", hetero=False, atom_name=\"CA\", element=\"C\"),\n",
       "\tAtom(np.array([ 6.701,  4.176, 12.788], dtype=float32), chain_id=\"B\", res_id=10, ins_code=\"\", res_name=\"GLY\", hetero=False, atom_name=\"CA\", element=\"C\"),\n",
       "\tAtom(np.array([ 6.198,  1.081, 10.646], dtype=float32), chain_id=\"B\", res_id=11, ins_code=\"\", res_name=\"LYS\", hetero=False, atom_name=\"CA\", element=\"C\"),\n",
       "\tAtom(np.array([ 8.055, -2.22 , 11.09 ], dtype=float32), chain_id=\"B\", res_id=12, ins_code=\"\", res_name=\"THR\", hetero=False, atom_name=\"CA\", element=\"C\"),\n",
       "\tAtom(np.array([ 8.307, -4.568,  8.101], dtype=float32), chain_id=\"B\", res_id=13, ins_code=\"\", res_name=\"ILE\", hetero=False, atom_name=\"CA\", element=\"C\"),\n",
       "\tAtom(np.array([ 9.269, -8.153,  9.107], dtype=float32), chain_id=\"B\", res_id=14, ins_code=\"\", res_name=\"THR\", hetero=False, atom_name=\"CA\", element=\"C\"),\n",
       "\tAtom(np.array([ 11.233, -10.044,   6.387], dtype=float32), chain_id=\"B\", res_id=15, ins_code=\"\", res_name=\"LEU\", hetero=False, atom_name=\"CA\", element=\"C\"),\n",
       "\tAtom(np.array([ 12.75 , -13.512,   5.892], dtype=float32), chain_id=\"B\", res_id=16, ins_code=\"\", res_name=\"GLU\", hetero=False, atom_name=\"CA\", element=\"C\"),\n",
       "\tAtom(np.array([ 15.97 , -13.154,   3.909], dtype=float32), chain_id=\"B\", res_id=17, ins_code=\"\", res_name=\"VAL\", hetero=False, atom_name=\"CA\", element=\"C\"),\n",
       "\tAtom(np.array([ 19.087, -15.157,   3.221], dtype=float32), chain_id=\"B\", res_id=18, ins_code=\"\", res_name=\"GLU\", hetero=False, atom_name=\"CA\", element=\"C\"),\n",
       "\tAtom(np.array([ 22.31 , -14.014,   4.89 ], dtype=float32), chain_id=\"B\", res_id=19, ins_code=\"\", res_name=\"PRO\", hetero=False, atom_name=\"CA\", element=\"C\"),\n",
       "\tAtom(np.array([ 23.843, -13.714,   1.419], dtype=float32), chain_id=\"B\", res_id=20, ins_code=\"\", res_name=\"SER\", hetero=False, atom_name=\"CA\", element=\"C\"),\n",
       "\tAtom(np.array([ 21.157, -11.482,  -0.139], dtype=float32), chain_id=\"B\", res_id=21, ins_code=\"\", res_name=\"ASP\", hetero=False, atom_name=\"CA\", element=\"C\"),\n",
       "\tAtom(np.array([22.487, -8.259, -1.628], dtype=float32), chain_id=\"B\", res_id=22, ins_code=\"\", res_name=\"THR\", hetero=False, atom_name=\"CA\", element=\"C\"),\n",
       "\tAtom(np.array([20.918, -4.979, -0.452], dtype=float32), chain_id=\"B\", res_id=23, ins_code=\"\", res_name=\"ILE\", hetero=False, atom_name=\"CA\", element=\"C\"),\n",
       "\tAtom(np.array([19.112, -4.692, -3.818], dtype=float32), chain_id=\"B\", res_id=24, ins_code=\"\", res_name=\"GLU\", hetero=False, atom_name=\"CA\", element=\"C\"),\n",
       "\tAtom(np.array([17.408, -8.081, -3.266], dtype=float32), chain_id=\"B\", res_id=25, ins_code=\"\", res_name=\"ASN\", hetero=False, atom_name=\"CA\", element=\"C\"),\n",
       "\tAtom(np.array([16.076, -6.917,  0.104], dtype=float32), chain_id=\"B\", res_id=26, ins_code=\"\", res_name=\"VAL\", hetero=False, atom_name=\"CA\", element=\"C\"),\n",
       "\tAtom(np.array([14.679, -3.835, -1.65 ], dtype=float32), chain_id=\"B\", res_id=27, ins_code=\"\", res_name=\"LYS\", hetero=False, atom_name=\"CA\", element=\"C\"),\n",
       "\tAtom(np.array([13.074, -6.184, -4.225], dtype=float32), chain_id=\"B\", res_id=28, ins_code=\"\", res_name=\"ALA\", hetero=False, atom_name=\"CA\", element=\"C\"),\n",
       "\tAtom(np.array([11.602, -8.075, -1.239], dtype=float32), chain_id=\"B\", res_id=29, ins_code=\"\", res_name=\"LYS\", hetero=False, atom_name=\"CA\", element=\"C\"),\n",
       "\tAtom(np.array([10.275, -4.847,  0.394], dtype=float32), chain_id=\"B\", res_id=30, ins_code=\"\", res_name=\"ILE\", hetero=False, atom_name=\"CA\", element=\"C\"),\n",
       "\tAtom(np.array([ 8.694, -3.951, -2.964], dtype=float32), chain_id=\"B\", res_id=31, ins_code=\"\", res_name=\"GLN\", hetero=False, atom_name=\"CA\", element=\"C\"),\n",
       "\tAtom(np.array([ 7.044, -7.393, -3.233], dtype=float32), chain_id=\"B\", res_id=32, ins_code=\"\", res_name=\"ASP\", hetero=False, atom_name=\"CA\", element=\"C\"),\n",
       "\tAtom(np.array([ 5.465, -6.837,  0.187], dtype=float32), chain_id=\"B\", res_id=33, ins_code=\"\", res_name=\"LYS\", hetero=False, atom_name=\"CA\", element=\"C\"),\n",
       "\tAtom(np.array([ 4.859, -3.087,  0.465], dtype=float32), chain_id=\"B\", res_id=34, ins_code=\"\", res_name=\"GLU\", hetero=False, atom_name=\"CA\", element=\"C\"),\n",
       "\tAtom(np.array([ 4.874, -2.052, -3.223], dtype=float32), chain_id=\"B\", res_id=35, ins_code=\"\", res_name=\"GLY\", hetero=False, atom_name=\"CA\", element=\"C\"),\n",
       "\tAtom(np.array([ 7.54 ,  0.587, -2.689], dtype=float32), chain_id=\"B\", res_id=36, ins_code=\"\", res_name=\"ILE\", hetero=False, atom_name=\"CA\", element=\"C\"),\n",
       "\tAtom(np.array([ 9.785,  0.863, -5.774], dtype=float32), chain_id=\"B\", res_id=37, ins_code=\"\", res_name=\"PRO\", hetero=False, atom_name=\"CA\", element=\"C\"),\n",
       "\tAtom(np.array([13.383, -0.227, -5.191], dtype=float32), chain_id=\"B\", res_id=38, ins_code=\"\", res_name=\"PRO\", hetero=False, atom_name=\"CA\", element=\"C\"),\n",
       "\tAtom(np.array([14.496,  3.09 , -6.632], dtype=float32), chain_id=\"B\", res_id=39, ins_code=\"\", res_name=\"ASP\", hetero=False, atom_name=\"CA\", element=\"C\"),\n",
       "\tAtom(np.array([12.739,  5.056, -3.902], dtype=float32), chain_id=\"B\", res_id=40, ins_code=\"\", res_name=\"GLN\", hetero=False, atom_name=\"CA\", element=\"C\"),\n",
       "\tAtom(np.array([14.388,  3.025, -1.105], dtype=float32), chain_id=\"B\", res_id=41, ins_code=\"\", res_name=\"GLN\", hetero=False, atom_name=\"CA\", element=\"C\"),\n",
       "\tAtom(np.array([17.46 ,  3.873,  1.017], dtype=float32), chain_id=\"B\", res_id=42, ins_code=\"\", res_name=\"ARG\", hetero=False, atom_name=\"CA\", element=\"C\"),\n",
       "\tAtom(np.array([18.47 ,  1.183,  3.544], dtype=float32), chain_id=\"B\", res_id=43, ins_code=\"\", res_name=\"LEU\", hetero=False, atom_name=\"CA\", element=\"C\"),\n",
       "\tAtom(np.array([20.297,  1.968,  6.748], dtype=float32), chain_id=\"B\", res_id=44, ins_code=\"\", res_name=\"ILE\", hetero=False, atom_name=\"CA\", element=\"C\"),\n",
       "\tAtom(np.array([22.132, -0.191,  9.283], dtype=float32), chain_id=\"B\", res_id=45, ins_code=\"\", res_name=\"PHE\", hetero=False, atom_name=\"CA\", element=\"C\"),\n",
       "\tAtom(np.array([23.745,  1.286, 12.39 ], dtype=float32), chain_id=\"B\", res_id=46, ins_code=\"\", res_name=\"ALA\", hetero=False, atom_name=\"CA\", element=\"C\"),\n",
       "\tAtom(np.array([23.361,  4.928, 11.239], dtype=float32), chain_id=\"B\", res_id=47, ins_code=\"\", res_name=\"GLY\", hetero=False, atom_name=\"CA\", element=\"C\"),\n",
       "\tAtom(np.array([24.869,  4.377,  7.833], dtype=float32), chain_id=\"B\", res_id=48, ins_code=\"\", res_name=\"LYS\", hetero=False, atom_name=\"CA\", element=\"C\"),\n",
       "\tAtom(np.array([23.385,  3.971,  4.371], dtype=float32), chain_id=\"B\", res_id=49, ins_code=\"\", res_name=\"GLN\", hetero=False, atom_name=\"CA\", element=\"C\"),\n",
       "\tAtom(np.array([23.871,  0.662,  2.491], dtype=float32), chain_id=\"B\", res_id=50, ins_code=\"\", res_name=\"LEU\", hetero=False, atom_name=\"CA\", element=\"C\"),\n",
       "\tAtom(np.array([25.257, -0.092, -0.982], dtype=float32), chain_id=\"B\", res_id=51, ins_code=\"\", res_name=\"GLU\", hetero=False, atom_name=\"CA\", element=\"C\"),\n",
       "\tAtom(np.array([23.035, -2.15 , -3.32 ], dtype=float32), chain_id=\"B\", res_id=52, ins_code=\"\", res_name=\"ASP\", hetero=False, atom_name=\"CA\", element=\"C\"),\n",
       "\tAtom(np.array([25.765, -4.517, -4.398], dtype=float32), chain_id=\"B\", res_id=53, ins_code=\"\", res_name=\"GLY\", hetero=False, atom_name=\"CA\", element=\"C\"),\n",
       "\tAtom(np.array([26.98 , -5.68 , -1.019], dtype=float32), chain_id=\"B\", res_id=54, ins_code=\"\", res_name=\"ARG\", hetero=False, atom_name=\"CA\", element=\"C\"),\n",
       "\tAtom(np.array([25.325, -8.428,  0.966], dtype=float32), chain_id=\"B\", res_id=55, ins_code=\"\", res_name=\"THR\", hetero=False, atom_name=\"CA\", element=\"C\"),\n",
       "\tAtom(np.array([23.755, -8.315,  4.382], dtype=float32), chain_id=\"B\", res_id=56, ins_code=\"\", res_name=\"LEU\", hetero=False, atom_name=\"CA\", element=\"C\"),\n",
       "\tAtom(np.array([ 26.696, -10.461,   5.604], dtype=float32), chain_id=\"B\", res_id=57, ins_code=\"\", res_name=\"SER\", hetero=False, atom_name=\"CA\", element=\"C\"),\n",
       "\tAtom(np.array([29.31 , -7.968,  4.331], dtype=float32), chain_id=\"B\", res_id=58, ins_code=\"\", res_name=\"ASP\", hetero=False, atom_name=\"CA\", element=\"C\"),\n",
       "\tAtom(np.array([27.755, -5.475,  6.787], dtype=float32), chain_id=\"B\", res_id=59, ins_code=\"\", res_name=\"TYR\", hetero=False, atom_name=\"CA\", element=\"C\"),\n",
       "\tAtom(np.array([27.548, -8.1  ,  9.547], dtype=float32), chain_id=\"B\", res_id=60, ins_code=\"\", res_name=\"ASN\", hetero=False, atom_name=\"CA\", element=\"C\"),\n",
       "\tAtom(np.array([23.736, -7.926,  9.56 ], dtype=float32), chain_id=\"B\", res_id=61, ins_code=\"\", res_name=\"ILE\", hetero=False, atom_name=\"CA\", element=\"C\"),\n",
       "\tAtom(np.array([ 22.722, -11.045,  11.492], dtype=float32), chain_id=\"B\", res_id=62, ins_code=\"\", res_name=\"GLN\", hetero=False, atom_name=\"CA\", element=\"C\"),\n",
       "\tAtom(np.array([ 19.407, -12.582,  12.546], dtype=float32), chain_id=\"B\", res_id=63, ins_code=\"\", res_name=\"LYS\", hetero=False, atom_name=\"CA\", element=\"C\"),\n",
       "\tAtom(np.array([ 16.975, -10.24 ,  14.254], dtype=float32), chain_id=\"B\", res_id=64, ins_code=\"\", res_name=\"GLU\", hetero=False, atom_name=\"CA\", element=\"C\"),\n",
       "\tAtom(np.array([18.8  , -7.11 , 13.062], dtype=float32), chain_id=\"B\", res_id=65, ins_code=\"\", res_name=\"SER\", hetero=False, atom_name=\"CA\", element=\"C\"),\n",
       "\tAtom(np.array([16.938, -3.906, 12.418], dtype=float32), chain_id=\"B\", res_id=66, ins_code=\"\", res_name=\"THR\", hetero=False, atom_name=\"CA\", element=\"C\"),\n",
       "\tAtom(np.array([17.463, -1.965,  9.24 ], dtype=float32), chain_id=\"B\", res_id=67, ins_code=\"\", res_name=\"LEU\", hetero=False, atom_name=\"CA\", element=\"C\"),\n",
       "\tAtom(np.array([15.796,  1.401,  8.591], dtype=float32), chain_id=\"B\", res_id=68, ins_code=\"\", res_name=\"HIS\", hetero=False, atom_name=\"CA\", element=\"C\"),\n",
       "\tAtom(np.array([14.176,  2.579,  5.387], dtype=float32), chain_id=\"B\", res_id=69, ins_code=\"\", res_name=\"LEU\", hetero=False, atom_name=\"CA\", element=\"C\"),\n",
       "\tAtom(np.array([14.06 ,  6.15 ,  4.033], dtype=float32), chain_id=\"B\", res_id=70, ins_code=\"\", res_name=\"VAL\", hetero=False, atom_name=\"CA\", element=\"C\"),\n",
       "\tAtom(np.array([12.606,  7.231,  0.717], dtype=float32), chain_id=\"B\", res_id=71, ins_code=\"\", res_name=\"LEU\", hetero=False, atom_name=\"CA\", element=\"C\"),\n",
       "\tAtom(np.array([14.622,  9.215, -1.804], dtype=float32), chain_id=\"B\", res_id=72, ins_code=\"\", res_name=\"ARG\", hetero=False, atom_name=\"CA\", element=\"C\"),\n",
       "\tAtom(np.array([11.531, 10.631, -3.525], dtype=float32), chain_id=\"B\", res_id=73, ins_code=\"\", res_name=\"LEU\", hetero=False, atom_name=\"CA\", element=\"C\"),\n",
       "\tAtom(np.array([11.36 , 12.858, -6.578], dtype=float32), chain_id=\"B\", res_id=74, ins_code=\"\", res_name=\"ARG\", hetero=False, atom_name=\"CA\", element=\"C\"),\n",
       "\tAtom(np.array([ 8.317, 13.095, -8.9  ], dtype=float32), chain_id=\"B\", res_id=75, ins_code=\"\", res_name=\"GLY\", hetero=False, atom_name=\"CA\", element=\"C\"),\n",
       "\tAtom(np.array([ 4.534, 12.815, -8.961], dtype=float32), chain_id=\"B\", res_id=76, ins_code=\"\", res_name=\"GLY\", hetero=False, atom_name=\"CA\", element=\"C\")\n",
       "])"
      ]
     },
     "execution_count": 6,
     "metadata": {},
     "output_type": "execute_result"
    }
   ],
   "source": [
    "atoms"
   ]
  },
  {
   "cell_type": "code",
   "execution_count": 8,
   "metadata": {},
   "outputs": [],
   "source": [
    "ff = springcraft.InvariantForceField(cutoff_distance=13.0)\n",
    "hessian, pairs = springcraft.compute_hessian(atoms.coord, ff)"
   ]
  },
  {
   "cell_type": "code",
   "execution_count": 9,
   "metadata": {},
   "outputs": [
    {
     "data": {
      "text/plain": [
       "array([[ 5.19572309, -0.34421606, -0.0350209 , ...,  0.        ,\n",
       "         0.        ,  0.        ],\n",
       "       [-0.34421606,  8.76178573,  0.51959594, ...,  0.        ,\n",
       "         0.        ,  0.        ],\n",
       "       [-0.0350209 ,  0.51959594,  7.04249102, ...,  0.        ,\n",
       "         0.        ,  0.        ],\n",
       "       ...,\n",
       "       [ 0.        ,  0.        ,  0.        , ...,  3.52643149,\n",
       "        -0.73890825,  1.49009654],\n",
       "       [ 0.        ,  0.        ,  0.        , ..., -0.73890825,\n",
       "         0.53402977, -0.55103007],\n",
       "       [ 0.        ,  0.        ,  0.        , ...,  1.49009654,\n",
       "        -0.55103007,  0.93953867]])"
      ]
     },
     "execution_count": 9,
     "metadata": {},
     "output_type": "execute_result"
    }
   ],
   "source": [
    "hessian"
   ]
  },
  {
   "cell_type": "code",
   "execution_count": 10,
   "metadata": {},
   "outputs": [
    {
     "data": {
      "text/plain": [
       "array([[  0,   1],\n",
       "       [  0,   2],\n",
       "       [  0,   3],\n",
       "       ...,\n",
       "       [151, 148],\n",
       "       [151, 149],\n",
       "       [151, 150]], dtype=int64)"
      ]
     },
     "execution_count": 10,
     "metadata": {},
     "output_type": "execute_result"
    }
   ],
   "source": [
    "pairs"
   ]
  },
  {
   "cell_type": "code",
   "execution_count": 11,
   "metadata": {},
   "outputs": [],
   "source": [
    "gnm = springcraft.GNM(atoms, ff)\n",
    "eigen_values, eigen_vectors = gnm.eigen()"
   ]
  },
  {
   "cell_type": "code",
   "execution_count": 12,
   "metadata": {},
   "outputs": [
    {
     "data": {
      "text/plain": [
       "array([-1.21665267e-15,  2.84135732e+00,  4.29765108e+00,  8.35940261e+00,\n",
       "        9.48532265e+00,  1.05240745e+01,  1.17240771e+01,  1.21365245e+01,\n",
       "        1.28147766e+01,  1.41107873e+01,  1.51027112e+01,  1.55277972e+01,\n",
       "        1.69308823e+01,  1.70848687e+01,  1.80506771e+01,  1.82877559e+01,\n",
       "        1.86935126e+01,  1.91675102e+01,  1.97725436e+01,  1.99266013e+01,\n",
       "        2.02584425e+01,  2.08339435e+01,  2.10163595e+01,  2.11699105e+01,\n",
       "        2.15389438e+01,  2.18151891e+01,  2.19239768e+01,  2.20965495e+01,\n",
       "        2.23183128e+01,  2.26563713e+01,  2.30817631e+01,  2.33308151e+01,\n",
       "        2.37202350e+01,  2.37856658e+01,  2.39922518e+01,  2.41018928e+01,\n",
       "        2.43523524e+01,  2.44587724e+01,  2.47671547e+01,  2.48917813e+01,\n",
       "        2.51114926e+01,  2.52159804e+01,  2.55650902e+01,  2.56368734e+01,\n",
       "        2.57771421e+01,  2.58632052e+01,  2.59859429e+01,  2.60447189e+01,\n",
       "        2.62336962e+01,  2.63392437e+01,  2.65287343e+01,  2.65512311e+01,\n",
       "        2.65665197e+01,  2.66366410e+01,  2.67637608e+01,  2.68970038e+01,\n",
       "        2.69846103e+01,  2.70539692e+01,  2.72824681e+01,  2.73823475e+01,\n",
       "        2.75059333e+01,  2.75616769e+01,  2.77538858e+01,  2.79296077e+01,\n",
       "        2.81498439e+01,  2.81888502e+01,  2.83288146e+01,  2.87095591e+01,\n",
       "        2.88868546e+01,  2.90577975e+01,  2.91386219e+01,  2.94705472e+01,\n",
       "        2.96159185e+01,  2.97395610e+01,  3.00515571e+01,  3.01285405e+01,\n",
       "        3.02131393e+01,  3.03379716e+01,  3.04341141e+01,  3.09391810e+01,\n",
       "        3.11257044e+01,  3.11798276e+01,  3.14074165e+01,  3.16938998e+01,\n",
       "        3.18764036e+01,  3.20673344e+01,  3.21561040e+01,  3.23606846e+01,\n",
       "        3.25904483e+01,  3.27426654e+01,  3.27759651e+01,  3.29772251e+01,\n",
       "        3.31860935e+01,  3.33619967e+01,  3.34893551e+01,  3.36416538e+01,\n",
       "        3.38236280e+01,  3.40359510e+01,  3.41443005e+01,  3.43572352e+01,\n",
       "        3.43792554e+01,  3.46274138e+01,  3.50546822e+01,  3.51721952e+01,\n",
       "        3.54165535e+01,  3.56033385e+01,  3.58599790e+01,  3.59705959e+01,\n",
       "        3.60467482e+01,  3.65671388e+01,  3.67117085e+01,  3.69975111e+01,\n",
       "        3.77073989e+01,  3.80568216e+01,  3.81614178e+01,  3.86420211e+01,\n",
       "        3.93261563e+01,  3.95827087e+01,  3.98811501e+01,  4.01818138e+01,\n",
       "        4.02910688e+01,  4.05810785e+01,  4.09016947e+01,  4.12535087e+01,\n",
       "        4.16443184e+01,  4.18945441e+01,  4.23486729e+01,  4.26172488e+01,\n",
       "        4.27727696e+01,  4.33523195e+01,  4.41157379e+01,  4.42813797e+01,\n",
       "        4.48203331e+01,  4.50847510e+01,  4.55689273e+01,  4.60767233e+01,\n",
       "        4.61968727e+01,  4.64857790e+01,  4.69236255e+01,  4.72827950e+01,\n",
       "        4.76650063e+01,  4.88745876e+01,  4.94778350e+01,  5.00151845e+01,\n",
       "        5.05086288e+01,  5.17786339e+01,  5.26317353e+01,  5.30247340e+01,\n",
       "        5.43743457e+01,  5.57823077e+01,  5.81596859e+01,  5.87605014e+01])"
      ]
     },
     "execution_count": 12,
     "metadata": {},
     "output_type": "execute_result"
    }
   ],
   "source": [
    "eigen_values"
   ]
  },
  {
   "cell_type": "code",
   "execution_count": 13,
   "metadata": {},
   "outputs": [
    {
     "data": {
      "text/plain": [
       "array([[-8.11107106e-02, -8.11107106e-02, -8.11107106e-02, ...,\n",
       "        -8.11107106e-02, -8.11107106e-02, -8.11107106e-02],\n",
       "       [ 1.21579490e-01,  1.13061128e-01,  1.00338032e-01, ...,\n",
       "        -1.47319652e-02, -5.02380064e-02, -6.55098749e-02],\n",
       "       [-5.58565407e-03, -6.21635692e-03, -5.01464548e-03, ...,\n",
       "         1.45423125e-01,  2.89936088e-01,  9.16666433e-01],\n",
       "       ...,\n",
       "       [ 4.53167774e-03,  9.31559255e-03, -2.96534888e-02, ...,\n",
       "         4.16222408e-04, -2.00597487e-03, -1.03933251e-03],\n",
       "       [-2.36460869e-03, -4.87282985e-03,  1.74470782e-02, ...,\n",
       "        -4.42041372e-04,  2.48245490e-04, -1.79913304e-04],\n",
       "       [ 2.69641539e-03,  4.78988867e-03, -2.18683537e-02, ...,\n",
       "         5.92624616e-03,  2.73246538e-03,  7.11662242e-04]])"
      ]
     },
     "execution_count": 13,
     "metadata": {},
     "output_type": "execute_result"
    }
   ],
   "source": [
    "eigen_vectors"
   ]
  },
  {
   "cell_type": "code",
   "execution_count": 14,
   "metadata": {},
   "outputs": [],
   "source": [
    "import numpy as np\n",
    "\n",
    "anm = springcraft.ANM(atoms, ff)\n",
    "force_vector = np.zeros((atoms.array_length(), 3))\n",
    "force_vector[42, 0] = 10\n",
    "displacements = anm.linear_response(force_vector)"
   ]
  },
  {
   "attachments": {},
   "cell_type": "markdown",
   "metadata": {},
   "source": [
    "### Springcraft Example"
   ]
  },
  {
   "cell_type": "code",
   "execution_count": 2,
   "metadata": {},
   "outputs": [
    {
     "data": {
      "image/png": "[encoded data removed]",
      "text/plain": [
       "<Figure size 800x800 with 3 Axes>"
      ]
     },
     "metadata": {},
     "output_type": "display_data"
    }
   ],
   "source": [
    "# Code source: Jan Krumbach\n",
    "# License: BSD 3 clause\n",
    "\n",
    "import numpy as np\n",
    "import matplotlib.pyplot as plt\n",
    "import biotite\n",
    "import biotite.structure as struc\n",
    "import biotite.structure.io.mmtf as mmtf\n",
    "import biotite.database.rcsb as rcsb\n",
    "import springcraft\n",
    "\n",
    "\n",
    "# Fetch G:T/U Mismatch-specific DNA glycosylase from E. coli\n",
    "PDB_ID = \"1A0A\"\n",
    "mmtf_file = mmtf.MMTFFile.read(rcsb.fetch(PDB_ID, \"mmtf\"))\n",
    "whole_structure = mmtf.get_structure(mmtf_file, model=1, include_bonds=True)\n",
    "protein = whole_structure[struc.filter_amino_acids(whole_structure)]\n",
    "ca = protein[(protein.atom_name == \"CA\") & (protein.element == \"C\")]\n",
    "\n",
    "# Select forcefield; create ANM object using the eANM forcefield\n",
    "ff = springcraft.TabulatedForceField.e_anm(ca)\n",
    "eanm = springcraft.ANM(ca, ff)\n",
    "\n",
    "## NMA\n",
    "# Compute eigenvalues and eigenvectors.\n",
    "# The first 6 eigenvals./eigenvecs corresponding to trivial modes are omitted.\n",
    "# -> analyse modes 7-107\n",
    "eigenval, eigenvec = eanm.eigen()\n",
    "eigenval = eigenval[6:106]\n",
    "# Compute fluctuations for all residues and frequencies for modes 7-107\n",
    "msqf = eanm.mean_square_fluctuation()\n",
    "freq = eanm.frequencies()[6:106]\n",
    "\n",
    "## Plot\n",
    "fig = plt.figure(figsize=(8.0, 8.0), constrained_layout=True)\n",
    "grid = fig.add_gridspec(nrows=2, ncols=2)\n",
    "\n",
    "ax00 = fig.add_subplot(grid[0, 0])\n",
    "ax01 = fig.add_subplot(grid[0, 1])\n",
    "ax1 = fig.add_subplot(grid[1, :])\n",
    "\n",
    "biotite_c = biotite.colors[\"orange\"]\n",
    "\n",
    "ax00.bar(x=np.arange(7, len(eigenval)+7), height=eigenval, color=biotite_c)\n",
    "ax01.bar(x=np.arange(7, len(freq)+7), height=freq, color=biotite_c)\n",
    "ax1.bar(x=np.arange(1, len(msqf)+1), height=msqf, color=biotite_c)\n",
    "\n",
    "ax00.set_xlabel(\"Mode\", size=16)\n",
    "ax00.set_ylabel(r\"Eigenvalue $\\lambda$\", size=16)\n",
    "ax01.set_xlabel(\"Mode\", size=16)\n",
    "ax01.set_ylabel(r\"Frequency $\\nu$ / A.U.\", size=16)\n",
    "ax1.set_xlabel(\"Amino Acid Residue ID\", size=16)\n",
    "ax1.set_ylabel(\"Mean squared fluctuation / A.U.\", size=16)\n",
    "\n",
    "plt.show()"
   ]
  },
  {
   "attachments": {},
   "cell_type": "markdown",
   "metadata": {},
   "source": [
    "### Calculation of 3 Flexibility Measures Example"
   ]
  },
  {
   "cell_type": "code",
   "execution_count": 1,
   "metadata": {},
   "outputs": [],
   "source": [
    "import numpy as np\n",
    "import matplotlib.pyplot as plt\n",
    "import biotite\n",
    "import biotite.structure as struc\n",
    "import biotite.structure.io.mmtf as mmtf\n",
    "import biotite.database.rcsb as rcsb\n",
    "import biotite.structure.io as strucio\n",
    "import springcraft\n",
    "\n",
    "def calculate_normal_modes_gnm_from_file(path, cutoff):\n",
    "    '''\n",
    "    Function that calculates eigenvalues and eigenvectors of Kirchhoff matrix using GNM method from .pdb file.\n",
    "\n",
    "    Arguments:\n",
    "        path : string - Path to .pdb file containing structure we want to explore\n",
    "        cutoff : double - Angstrom distance under which two CA atoms are represented as connected\n",
    "    Returns:\n",
    "        eigenvalues : array(double) - Eigenvalues of Kirchhoff matrix\n",
    "        eigenvectors : matrix(double) - Eigenvectors of Kirchhoff matrix represented as rows of the matrix returned   \n",
    "    '''\n",
    "\n",
    "    # Read .pdb file and filter CA atoms\n",
    "    whole_structure = strucio.load_structure(path)\n",
    "    protein = whole_structure[struc.filter_amino_acids(whole_structure)]\n",
    "    ca = protein[(protein.atom_name == \"CA\") & (protein.element == \"C\")]\n",
    "    \n",
    "    # Define force field and GNM object\n",
    "    ff = springcraft.InvariantForceField(cutoff_distance=cutoff)\n",
    "    gnm = springcraft.GNM(ca, ff)\n",
    "\n",
    "    # Return model with all pre-processing\n",
    "    return gnm\n",
    "\n",
    "def calculate_normal_modes_gnm_from_id(id, cutoff):\n",
    "    '''\n",
    "    Function that calculates eigenvalues and eigenvectors of Kirchhoff matrix using GNM method from PDBID of a structure.\n",
    "\n",
    "    Arguments:\n",
    "        id : string - PDBID of a structure we want to explore\n",
    "        cutoff : double - Angstrom distance under which two CA atoms are represented as connected\n",
    "    Returns:\n",
    "        eigenvalues : array(double) - Eigenvalues of Kirchhoff matrix\n",
    "        eigenvectors : matrix(double) - Eigenvectors of Kirchhoff matrix represented as rows of the matrix returned   \n",
    "    '''\n",
    "\n",
    "    # Read .pdb file and filter CA atoms\n",
    "    mmtf_file = mmtf.MMTFFile.read(rcsb.fetch(id, \"mmtf\"))\n",
    "    whole_structure = mmtf.get_structure(mmtf_file, model=1, include_bonds=True)\n",
    "    protein = whole_structure[struc.filter_amino_acids(whole_structure)]\n",
    "    ca = protein[(protein.atom_name == \"CA\") & (protein.element == \"C\")]\n",
    "    \n",
    "    # Define force field and GNM object\n",
    "    ff = springcraft.InvariantForceField(cutoff_distance=cutoff)\n",
    "    gnm = springcraft.GNM(ca, ff)\n",
    "\n",
    "    # Return model with all pre-processing\n",
    "    return gnm    \n",
    "\n",
    "def calculate_normal_modes_anm_from_file(path, cutoff):\n",
    "    '''\n",
    "    Function that calculates eigenvalues and eigenvectors of Kirchhoff matrix using ANM method from .pdb file.\n",
    "\n",
    "    Arguments:\n",
    "        path : string - Path to .pdb file containing structure we want to explore\n",
    "        cutoff : double - Angstrom distance under which two CA atoms are represented as connected\n",
    "    Returns:\n",
    "        eigenvalues : array(double) - Eigenvalues of Kirchhoff matrix\n",
    "        eigenvectors : matrix(double) - Eigenvectors of Kirchhoff matrix represented as rows of the matrix returned   \n",
    "    '''\n",
    "\n",
    "    # Read .pdb file and filter CA atoms\n",
    "    whole_structure = strucio.load_structure(path)\n",
    "    protein = whole_structure[struc.filter_amino_acids(whole_structure)]\n",
    "    ca = protein[(protein.atom_name == \"CA\") & (protein.element == \"C\")]\n",
    "    \n",
    "    # Define force field and GNM object\n",
    "    ff = springcraft.InvariantForceField(cutoff_distance=cutoff)\n",
    "    anm = springcraft.ANM(ca, ff)\n",
    "\n",
    "    # Return model with all pre-processing\n",
    "    return anm\n",
    "\n",
    "def calculate_normal_modes_anm_from_id(id, cutoff):\n",
    "    '''\n",
    "    Function that calculates eigenvalues and eigenvectors of Kirchhoff matrix using ANM method from PDBID of a structure.\n",
    "\n",
    "    Arguments:\n",
    "        id : string - PDBID of a structure we want to explore\n",
    "        cutoff : double - Angstrom distance under which two CA atoms are represented as connected\n",
    "    Returns:\n",
    "        eigenvalues : array(double) - Eigenvalues of Kirchhoff matrix\n",
    "        eigenvectors : matrix(double) - Eigenvectors of Kirchhoff matrix represented as rows of the matrix returned   \n",
    "    '''\n",
    "\n",
    "    # Read .pdb file and filter CA atoms\n",
    "    mmtf_file = mmtf.MMTFFile.read(rcsb.fetch(id, \"mmtf\"))\n",
    "    whole_structure = mmtf.get_structure(mmtf_file, model=1, include_bonds=True)\n",
    "    protein = whole_structure[struc.filter_amino_acids(whole_structure)]\n",
    "    ca = protein[(protein.atom_name == \"CA\") & (protein.element == \"C\")]\n",
    "    \n",
    "    # Define force field and GNM object\n",
    "    ff = springcraft.InvariantForceField(cutoff_distance=cutoff)\n",
    "    anm = springcraft.ANM(ca, ff)\n",
    "\n",
    "    # Return model with all pre-processing\n",
    "    return anm    "
   ]
  },
  {
   "cell_type": "code",
   "execution_count": 2,
   "metadata": {},
   "outputs": [],
   "source": [
    "import scipy\n",
    "import torch\n",
    "\n",
    "def pseudo_fluctuation_measure(eval, evec, K = 10, funct = (lambda x: 1/x)):\n",
    "    eval = eval[1:K]\n",
    "    w = scipy.special.softmax(funct(eval))\n",
    "    evec = evec[1:K]\n",
    "    evec = evec**2\n",
    "    evec = evec.transpose()\n",
    "    pseudo_fluc = (w*evec).sum(axis=1)\n",
    "    return torch.from_numpy(pseudo_fluc)"
   ]
  },
  {
   "cell_type": "code",
   "execution_count": 14,
   "metadata": {},
   "outputs": [
    {
     "data": {
      "image/png": "[encoded data removed]",
      "text/plain": [
       "<Figure size 800x1600 with 5 Axes>"
      ]
     },
     "metadata": {},
     "output_type": "display_data"
    }
   ],
   "source": [
    "import numpy as np\n",
    "import matplotlib.pyplot as plt\n",
    "import springcraft\n",
    "\n",
    "gnm = calculate_normal_modes_gnm_from_id(\"1A0A\", 10.0)\n",
    "eigenval, eigenvec = gnm.eigen() \n",
    "\n",
    "pseudo_fluc = pseudo_fluctuation_measure(eigenval, eigenvec, 10, lambda x: 1/x)\n",
    "msqf = gnm.mean_square_fluctuation(mode_subset = np.array([i for i in range(1, 10)]))\n",
    "bfact = gnm.bfactor(mode_subset = np.array([i for i in range(1, 10)]))\n",
    "freq = gnm.frequencies()[1:]\n",
    "\n",
    "eigenval = eigenval[1:]\n",
    "fig = plt.figure(figsize=(8.0, 16.0), constrained_layout=True)\n",
    "grid = fig.add_gridspec(nrows=4, ncols=2)\n",
    "\n",
    "ax00 = fig.add_subplot(grid[0, 0])\n",
    "ax01 = fig.add_subplot(grid[0, 1])\n",
    "ax1 = fig.add_subplot(grid[1, :])\n",
    "ax2 = fig.add_subplot(grid[2, :])\n",
    "ax3 = fig.add_subplot(grid[3, :])\n",
    "\n",
    "biotite_c = biotite.colors[\"orange\"]\n",
    "\n",
    "ax00.bar(x=np.arange(1, len(eigenval)+1), height=eigenval, color=biotite_c)\n",
    "ax01.bar(x=np.arange(1, len(freq)+1), height=freq, color=biotite_c)\n",
    "ax1.bar(x=np.arange(1, len(msqf)+1), height=msqf, color=biotite_c)\n",
    "ax2.bar(x=np.arange(1, len(bfact)+1), height=bfact, color=biotite_c)\n",
    "ax3.bar(x=np.arange(1, len(pseudo_fluc)+1), height=pseudo_fluc, color=biotite_c)\n",
    "\n",
    "ax00.set_xlabel(\"Mode\", size=16)\n",
    "ax00.set_ylabel(r\"Eigenvalue $\\lambda$\", size=16)\n",
    "ax01.set_xlabel(\"Mode\", size=16)\n",
    "ax01.set_ylabel(r\"Frequency $\\nu$ / A.U.\", size=16)\n",
    "ax1.set_xlabel(\"Amino Acid Residue ID\", size=16)\n",
    "ax1.set_ylabel(\"Mean squared fluctuation / A.U.\", size=16)\n",
    "ax2.set_xlabel(\"Amino Acid Residue ID\", size=16)\n",
    "ax2.set_ylabel(\"B Factor\", size=16)\n",
    "ax3.set_xlabel(\"Amino Acid Residue ID\", size=16)\n",
    "ax3.set_ylabel(\"Pseudo Fluctuation Measure\", size=16)\n",
    "\n",
    "plt.show()"
   ]
  }
 ],
 "metadata": {
  "kernelspec": {
   "display_name": "Python 3.9.13 64-bit (microsoft store)",
   "language": "python",
   "name": "python3"
  },
  "language_info": {
   "codemirror_mode": {
    "name": "ipython",
    "version": 3
   },
   "file_extension": ".py",
   "mimetype": "text/x-python",
   "name": "python",
   "nbconvert_exporter": "python",
   "pygments_lexer": "ipython3",
   "version": "3.9.13"
  },
  "orig_nbformat": 4,
  "vscode": {
   "interpreter": {
    "hash": "db5af5f58acfb6199dbee1ebd22982ecd1800cb1c90b47b2daed5506bc7e593f"
   }
  }
 },
 "nbformat": 4,
 "nbformat_minor": 2
}
